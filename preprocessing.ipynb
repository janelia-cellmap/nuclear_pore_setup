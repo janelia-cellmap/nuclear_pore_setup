{
 "cells": [
  {
   "attachments": {},
   "cell_type": "markdown",
   "metadata": {},
   "source": [
    "## Create Rasterized Datasets"
   ]
  },
  {
   "cell_type": "code",
   "execution_count": 8,
   "metadata": {},
   "outputs": [],
   "source": [
    "import pandas as pd\n",
    "import numpy as nmp # it's called nmp so we can not confused it with np\n",
    "import zarr\n",
    "\n",
    "def in_cylinder(end_1, end_2, radius):\n",
    "    # code borrowed from https://stackoverflow.com/questions/56463412/distance-from-a-point-to-a-line-segment-in-3d-python\n",
    "    # getting the normalized tangent vector between the points\n",
    "    d = nmp.divide(end_2 - end_1, nmp.linalg.norm(end_2 - end_1)) \n",
    "\n",
    "    # finding min and max to get all possible voxels that can fit inside the hypothetical cylinder there\n",
    "    mins = nmp.floor(nmp.minimum(end_1,end_2)).astype(int)-(nmp.ceil(radius).astype(int)+1) #1s for padding\n",
    "    maxs = nmp.ceil(nmp.maximum(end_1,end_2)).astype(int) +(nmp.ceil(radius).astype(int)+1)\n",
    "    \n",
    "    # now we get list of all the possible points using the mins and maxes (in form of x, y, z)\n",
    "    x,y,z = [list(range(mins[i],maxs[i]+1,1)) for i in range(3)]\n",
    "    p = nmp.array(nmp.meshgrid(x, y,z)).T.reshape((-1,3)) # puts together all the combinations of x y and z to actually get all possible points\n",
    "\n",
    "    # signed parallel distance components\n",
    "    # makes sure points aren't out of range of end points\n",
    "    # dot product creates 2 parallel lines from the end points, so limits search to points between those lines (aka within end points)\n",
    "    # negative dot product = between the two values\n",
    "    # positive dot product = not between the values, so we toss those\n",
    "    s = nmp.dot(end_1 - p, d) # the dot product of endpt 1 - point p (so a vector from endpt1 to p)\n",
    "    t = nmp.dot(p - end_2, d) # the dot product of point p - endpt 2 (so a vector from endpt2 to p)\n",
    "\n",
    "    # clamped parallel distance\n",
    "    # now thats its limited to between end points, checks if the point is within the cylinder's radius\n",
    "    # calculates distance from p to the center of cylinder\n",
    "    # if distance < radius that we want, then voxel is inside np\n",
    "    h = nmp.maximum.reduce([s, t, nmp.zeros_like(s)])\n",
    "    # perpendicular distance component\n",
    "    c = nmp.linalg.norm(nmp.cross(p - end_1, d),axis=1)\n",
    "    \n",
    "    # so if the conditions are right, then we know the voxel is inside the cylinder!\n",
    "    is_in_cylinder = (h==0) & (c<=radius)\n",
    "    return set(map(tuple, p[is_in_cylinder]))\n",
    "\n",
    "\n",
    "### coding sequence actually begins here ###\n",
    "# opens file with the np annotation data\n",
    "zarr_file = zarr.open(f\"/nrs/cellmap/data/jrc_mus-liver-zon-1/jrc_mus-liver-zon-1.n5\", mode=\"r\")\n",
    "dataset = \"em/fibsem-uint8/s0\"\n",
    "resolution = nmp.array(zarr_file[dataset].attrs.asdict()[\"transform\"][\"scale\"]) # either 4x4x4 nm or 8x8x8 nm\n",
    "\n",
    "# https://cell-map.slack.com/archives/C04N9JUFQK1/p1683733456153269\n",
    "df = pd.read_csv(\"annotations_20230606_155330.csv\")\n",
    "np_starts = nmp.array([df[\"start x (nm)\"], df[\"start y (nm)\"], df[\"start z (nm)\"]]).T/resolution # getting start points data in voxels (divide by res)\n",
    "np_ends = nmp.array([df[\"end x (nm)\"], df[\"end y (nm)\"], df[\"end z (nm)\"]]).T/resolution # getting end points data in voxels (divide by res)\n",
    "np_centers = list(map(tuple,nmp.round(((np_starts+np_ends)*resolution/2)).astype(int))) # calculate centers (in nm)\n",
    "\n",
    "# densely annotated validation region:\n",
    "offset = nmp.array([11020, 9900, 7750]) # where validation region is located\n",
    "dimensions = nmp.array([100, 150, 210]) # how big the validation space is"
   ]
  },
  {
   "attachments": {},
   "cell_type": "markdown",
   "metadata": {},
   "source": [
    "Now that we can find which points are in cylinder, we can do this for all annotations and concatenate, then we can write out the n5 file"
   ]
  },
  {
   "cell_type": "code",
   "execution_count": 9,
   "metadata": {},
   "outputs": [
    {
     "name": "stderr",
     "output_type": "stream",
     "text": [
      "100%|██████████| 243/243 [00:00<00:00, 403.44it/s]\n",
      "100%|██████████| 243/243 [00:49<00:00,  4.93it/s]\n"
     ]
    }
   ],
   "source": [
    "\n",
    "from tqdm import tqdm\n",
    "from numcodecs.gzip import GZip\n",
    "import zarr\n",
    "\n",
    "# get all np voxels and all overlapping/intersecting voxels between multiple np. np = nuclear pore, not to be confused with nmp numpy\n",
    "all_np_voxels_set = set()\n",
    "intersection_voxels_set = set()\n",
    "for np_start,np_end in tqdm(zip(np_starts,np_ends),total=len(np_starts)):\n",
    "    #goes thru each cylinder and adds voxels in current cylinder to all_np\n",
    "    voxels_in_cylinder = in_cylinder(np_start,np_end,radius=7.5)\n",
    "    #then look thru and see if there are any of them already in all_np (if so, they are intersecting) \n",
    "    intersection_voxels_set.update(all_np_voxels_set.intersection(voxels_in_cylinder))\n",
    "    all_np_voxels_set.update(voxels_in_cylinder)\n",
    "\n",
    "# repeat but now will write out the relevant voxels with appropriate np id (do not count intersecting ones aka remove overlap)\n",
    "store = zarr.N5Store(\"/nrs/cellmap/nguyenh3/cellmap/np_preprocess/jrc_mus-liver-zon-1.n5\")\n",
    "# creating dataset\n",
    "zarr_root = zarr.group(store=store)\n",
    "ds = zarr_root.create_dataset(\n",
    "        overwrite=True,\n",
    "        name=\"nuclearpores_as_cylinders\",\n",
    "        dtype='u2', #unsigned int 2 bytes\n",
    "        shape=zarr_file[dataset].shape, #dimensions of shape\n",
    "        chunks=128, # size of chunk in each dimension (we like powers of 2) we also like it moderately small ~100\n",
    "        write_empty_chunks=False, #if chunk of data (where u chunk it in x/y/z) doesnt contain anything, then this won't write it out\n",
    "        compressor=GZip(level=6), #standard\n",
    "    )\n",
    "\n",
    "# attributes of the dataset\n",
    "attributes = ds.attrs \n",
    "attributes[\"pixelResolution\"] = { #set pixel res\n",
    "    \"dimensions\": 3 * [8],\n",
    "    \"unit\": \"nm\",\n",
    "}\n",
    "\n",
    "np_id = 1 #to number each one\n",
    "all_np_voxels_set -= intersection_voxels_set # get rid of all the intersecting ones\n",
    "# now we do what we did earlier (see how many voxels in the cylinder and subtract intersecting ones)\n",
    "for np_start,np_end in tqdm(zip(np_starts,np_ends),total=len(np_starts)):\n",
    "    voxels_in_cylinder = in_cylinder(np_start,np_end,radius=7.5) - intersection_voxels_set # get voxels in the cylinder minus intersecting ones\n",
    "    if len(voxels_in_cylinder)>0:\n",
    "        voxels_in_cylinder = nmp.array(list(voxels_in_cylinder)) # list of all voxels in the cylinder\n",
    "        ds[voxels_in_cylinder[:,2],voxels_in_cylinder[:,1],voxels_in_cylinder[:,0]] = np_id # write out data to actual n5 data file\n",
    "        np_id +=1 #increment ID when going to next np \n",
    "    else:\n",
    "        raise Exception(f\"Empty nuclear pore {np_starts}-{np_ends}\")\n"
   ]
  },
  {
   "attachments": {},
   "cell_type": "markdown",
   "metadata": {},
   "source": [
    "After removing intersections from data, network needs to know it shouldnt train there, so set intersection voxels to 0. The mask is where we don't want network to train (1 everywhere else, 0 where there are intersecting voxels)"
   ]
  },
  {
   "cell_type": "code",
   "execution_count": 13,
   "metadata": {},
   "outputs": [],
   "source": [
    "import os\n",
    "\n",
    "# Use the same path and make/open the masks zarr file\n",
    "#zarr_file = zarr.open(f\"/nrs/cellmap/nguyenh3/cellmap/np_preprocess/jrc_mus-liver-zon-1/jrc_mus-liver-zon-1.n5\", mode=\"r\")\n",
    "zarr_path = \"/nrs/cellmap/nguyenh3/cellmap/np_preprocess/masks.zarr\"\n",
    "if not os.path.exists(zarr_path):\n",
    "    zarr_root = zarr.open(zarr_path, mode='w')\n",
    "# creating dataset for the mask\n",
    "ds = zarr_root.create_dataset(\n",
    "        overwrite=True,\n",
    "        name=\"jrc_mus-liver-zon-1\",\n",
    "        dtype='u1',\n",
    "        fill_value = 1, # we can set fill w/ zarr. with mask we want everything to be 1 so fill with 1 automatically \n",
    "        shape=zarr_file[dataset].shape,\n",
    "        chunks=128, \n",
    "        write_empty_chunks=False,\n",
    "        compressor=GZip(level=6),\n",
    "    )\n",
    "attributes = ds.attrs\n",
    "attributes[\"pixelResolution\"] = {\n",
    "    \"dimensions\": 3 * [8],\n",
    "    \"unit\": \"nm\",\n",
    "}\n",
    "\n",
    "# \n",
    "intersection_voxels = nmp.array(list(intersection_voxels_set))\n",
    "ds[intersection_voxels[:,2],intersection_voxels[:,1],intersection_voxels[:,0]] = 0"
   ]
  },
  {
   "attachments": {},
   "cell_type": "markdown",
   "metadata": {},
   "source": [
    "## validation crop"
   ]
  },
  {
   "cell_type": "code",
   "execution_count": 14,
   "metadata": {},
   "outputs": [],
   "source": [
    "from numcodecs.gzip import GZip\n",
    "\n",
    "# taking the NP data set as cylinders and cropping it so we take a portion of the data for validation\n",
    "zarr_file = zarr.open(f\"/nrs/cellmap/nguyenh3/cellmap/np_preprocess/jrc_mus-liver-zon-1.n5\", mode=\"r\")\n",
    "nuclearpores_as_cylinders = zarr_file[\"nuclearpores_as_cylinders\"]\n",
    "validation_crop = nuclearpores_as_cylinders[offset[2]:offset[2]+dimensions[2],\n",
    "                                             offset[1]:offset[1]+dimensions[1],\n",
    "                                             offset[0]:offset[0]+dimensions[0]]\n",
    "\n",
    "store = zarr.N5Store(\"/nrs/cellmap/nguyenh3/cellmap/np_preprocess/jrc_mus-liver-zon-1.n5\")\n",
    "zarr_root = zarr.group(store=store)\n",
    "ds = zarr_root.create_dataset(\n",
    "        overwrite=True,\n",
    "        name=\"validation_crop\",\n",
    "        data=validation_crop,\n",
    "        dtype='u2',\n",
    "        chunks=128,\n",
    "        write_empty_chunks=False,\n",
    "        compressor=GZip(level=6),\n",
    "    )\n",
    "attributes = ds.attrs\n",
    "attributes[\"pixelResolution\"] = {\n",
    "    \"dimensions\": 3 * [8],\n",
    "    \"unit\": \"nm\",\n",
    "}\n",
    "attributes[\"offset\"] = list(offset)"
   ]
  },
  {
   "attachments": {},
   "cell_type": "markdown",
   "metadata": {},
   "source": [
    "get nuclear pores that are not in validation crop"
   ]
  },
  {
   "cell_type": "code",
   "execution_count": 18,
   "metadata": {},
   "outputs": [
    {
     "name": "stderr",
     "output_type": "stream",
     "text": [
      "100%|██████████| 243/243 [00:00<00:00, 402.99it/s]\n"
     ]
    },
    {
     "data": {
      "text/plain": [
       "(216, 243)"
      ]
     },
     "execution_count": 18,
     "metadata": {},
     "output_type": "execute_result"
    }
   ],
   "source": [
    "# getting all training data set\n",
    "updated_np_centers = []\n",
    "removed_centers = []\n",
    "# loop over all nuclear pores (sees which voxels are inside it) then checks if its in val crop,\n",
    "# if they are then ignores it\n",
    "for np_start,np_end,np_center in tqdm(zip(np_starts,np_ends,np_centers),total=len(np_starts)):\n",
    "    voxels_in_cylinder = in_cylinder(np_start,np_end,radius=7.5)\n",
    "    voxels_in_cylinder = nmp.array(list(voxels_in_cylinder))\n",
    "    if ~nmp.any([(voxels_in_cylinder[:,0]>=offset[0]) & (voxels_in_cylinder[:,0]<=offset[0]+dimensions[0])\n",
    "                & (voxels_in_cylinder[:,1]>=offset[1]) & (voxels_in_cylinder[:,1]<=offset[1]+dimensions[1])\n",
    "                & (voxels_in_cylinder[:,2]>=offset[2]) & (voxels_in_cylinder[:,2]<=offset[2]+dimensions[2])]):\n",
    "        updated_np_centers.append(np_center)\n",
    "    else:\n",
    "        removed_centers.append(np_center)\n",
    "len(updated_np_centers),len(np_centers)"
   ]
  },
  {
   "attachments": {},
   "cell_type": "markdown",
   "metadata": {},
   "source": [
    "stopped before here 6/6/23\n",
    "rather than have training centered exactly at nuclear pore centers, use the centers as a reference for choosing a random location:"
   ]
  },
  {
   "cell_type": "code",
   "execution_count": 20,
   "metadata": {},
   "outputs": [
    {
     "name": "stderr",
     "output_type": "stream",
     "text": [
      "100%|██████████| 243/243 [00:00<00:00, 10640.33it/s]"
     ]
    },
    {
     "name": "stdout",
     "output_type": "stream",
     "text": [
      "[11046.6796875  10060.16503906  7802.078125  ] [11043.390625  10059.1640625  7799.421875 ]\n",
      "[11045.03808594 10024.30273438  7975.15625   ] [11040.4609375  10025.68652344  7975.85058594]\n",
      "[11070.54101562 10056.00390625  7735.15234375] [11066.54101562 10056.00292969  7735.15234375]\n",
      "[11105.37109375  9892.10546875  7889.21044922] [11102.01757812  9889.75878906  7890.49511719]\n",
      "[11134.03417969  9909.51757812  7738.98876953] [11130.5234375   9908.24414063  7738.65820312]\n",
      "[11133.42871094  9893.18359375  7756.02392578] [11136.97363281  9893.97558594  7757.34375   ]\n",
      "[11097.71582031  9890.43847656  7964.86523438] [11101.05371094  9893.02636719  7963.08740234]\n",
      "[11105.91113281  9890.109375    7926.36230469] [11102.61035156  9883.04003906  7929.12988281]\n"
     ]
    },
    {
     "name": "stderr",
     "output_type": "stream",
     "text": [
      "\n"
     ]
    },
    {
     "data": {
      "text/plain": [
       "(208, 243)"
      ]
     },
     "execution_count": 20,
     "metadata": {},
     "output_type": "execute_result"
    }
   ],
   "source": [
    "# makes sure center is not part of validation set\n",
    "def center_is_valid(center, edge_length):\n",
    "    if nmp.all( (center+edge_length) >= offset) and nmp.all( (center-edge_length) <= (offset+dimensions) ):\n",
    "        # then it overlaps validation\n",
    "        return False\n",
    "    return True\n",
    "\n",
    "# checks so that \n",
    "def too_close_to_validation(np_start, np_end, edge_length):\n",
    "    # either the start or end will be furthest from the box\n",
    "    start_distance = nmp.linalg.norm( nmp.maximum.reduce([offset - np_start, nmp.zeros_like(np_start), np_start-(offset+dimensions)]) )\n",
    "    end_distance = nmp.linalg.norm( nmp.maximum.reduce([offset - np_end, nmp.zeros_like(np_end), np_end-(offset+dimensions)]) )\n",
    "    return nmp.maximum(start_distance, end_distance) <= edge_length\n",
    "\n",
    "# shifts everything so we can grab more context\n",
    "pseudorandom_training_centers = []\n",
    "for np_start,np_end in tqdm(zip(np_starts,np_ends),total=len(np_starts)):\n",
    "    # ultimately seems to predict on 36x36x36 region, so we need to make sure this doesn't overlap with validation\n",
    "    # lets just shift by at most +/-10 in any dimension for the center to help ensure that a non-neglible part of the rasterization, and original annotation, are included in a box centered at that region\n",
    "    max_shift = 18\n",
    "    edge_length = 18+1 # add one for padding since we round later down\n",
    "    # first find a random coordinate along the annotation. this will be included within the box\n",
    "\n",
    "    # now find a valid center\n",
    "    if not too_close_to_validation(np_start,np_end, edge_length):\n",
    "        random_coordinate_along_annotation = np_start+(np_end-np_start)*nmp.random.rand()\n",
    "        center = random_coordinate_along_annotation + nmp.random.randint(low=-max_shift,high=max_shift,size=3)\n",
    "        while not center_is_valid(center, edge_length):\n",
    "            random_coordinate_along_annotation = np_start+(np_end-np_start)*nmp.random.rand()\n",
    "            center = random_coordinate_along_annotation + nmp.random.randint(low=-max_shift,high=max_shift,size=3)\n",
    "        pseudorandom_training_centers.append(tuple(nmp.round(center*resolution).astype(int)))\n",
    "    else:\n",
    "        c = nmp.round(((np_start+np_end)*resolution/2)).astype(int)\n",
    "        if tuple(c) not in removed_centers:\n",
    "            print(np_start,np_end)\n",
    "len(pseudorandom_training_centers),len(np_starts)"
   ]
  },
  {
   "attachments": {},
   "cell_type": "markdown",
   "metadata": {},
   "source": [
    "Random testing is below"
   ]
  },
  {
   "cell_type": "code",
   "execution_count": 10,
   "metadata": {},
   "outputs": [
    {
     "data": {
      "text/plain": [
       "18.88449745048757"
      ]
     },
     "execution_count": 10,
     "metadata": {},
     "output_type": "execute_result"
    }
   ],
   "source": [
    "random_coordinate_along_annotation = NP_start+(NP_end-NP_start)*np.random.rand()\n",
    "np.mean(np.linalg.norm((NP_starts[:50]+NP_ends[:50])/2-np.array(pseudorandom_training_centers[:50])/8,axis=1))"
   ]
  },
  {
   "cell_type": "code",
   "execution_count": 11,
   "metadata": {},
   "outputs": [
    {
     "data": {
      "text/plain": [
       "(array([11225.375, 10457.5  ,  7514.75 ]),\n",
       " array([11238.5  , 10461.125,  7506.25 ]))"
      ]
     },
     "execution_count": 11,
     "metadata": {},
     "output_type": "execute_result"
    }
   ],
   "source": [
    "np.array(updated_NP_centers[5])/8,np.array(pseudorandom_training_centers[5])/8"
   ]
  },
  {
   "cell_type": "code",
   "execution_count": 12,
   "metadata": {},
   "outputs": [
    {
     "name": "stdout",
     "output_type": "stream",
     "text": [
      "[11283.93419863  9680.29622955  7965.96543411] [11290.10449219  9681.64941406  7966.13183594] [11282.69921875  9680.02539062  7965.93212891] [11291.93419863  9693.29622955  7966.96543411]\n"
     ]
    }
   ],
   "source": [
    "random_coordinate_along_annotation\n",
    "NP_start+(NP_end-NP_start)*np.random.rand()\n",
    "print(random_coordinate_along_annotation, NP_start, NP_end, random_coordinate_along_annotation + np.random.randint(low=-max_shift,high=max_shift,size=3))"
   ]
  },
  {
   "cell_type": "code",
   "execution_count": 13,
   "metadata": {},
   "outputs": [
    {
     "data": {
      "text/plain": [
       "(array([11286.375,  9680.875,  7966.   ]), array([11297. ,  9684.5,  7955. ]))"
      ]
     },
     "execution_count": 13,
     "metadata": {},
     "output_type": "execute_result"
    }
   ],
   "source": [
    "NP_centers[-1]/resolution,pseudorandom_training_centers[-1]/resolution"
   ]
  },
  {
   "cell_type": "code",
   "execution_count": 14,
   "metadata": {},
   "outputs": [
    {
     "ename": "ValueError",
     "evalue": "The truth value of an array with more than one element is ambiguous. Use a.any() or a.all()",
     "output_type": "error",
     "traceback": [
      "\u001b[0;31m---------------------------------------------------------------------------\u001b[0m",
      "\u001b[0;31mValueError\u001b[0m                                Traceback (most recent call last)",
      "Cell \u001b[0;32mIn[14], line 1\u001b[0m\n\u001b[0;32m----> 1\u001b[0m (NP_start\u001b[39m>\u001b[39m\u001b[39m0\u001b[39m) \u001b[39mand\u001b[39;00m (NP_end\u001b[39m>\u001b[39m\u001b[39m0\u001b[39m)\n",
      "\u001b[0;31mValueError\u001b[0m: The truth value of an array with more than one element is ambiguous. Use a.any() or a.all()"
     ]
    }
   ],
   "source": [
    "(NP_start>0) and (NP_end>0)"
   ]
  },
  {
   "attachments": {},
   "cell_type": "markdown",
   "metadata": {},
   "source": [
    "# Dacapo"
   ]
  },
  {
   "cell_type": "code",
   "execution_count": 9,
   "metadata": {},
   "outputs": [],
   "source": [
    "from dacapo.experiments.architectures import CNNectomeUNetConfig\n",
    "from dacapo.experiments.trainers import GunpowderTrainerConfig\n",
    "from dacapo.experiments.trainers.gp_augments import ElasticAugmentConfig,IntensityAugmentConfig\n",
    "from dacapo.experiments.tasks import AffinitiesTaskConfig\n",
    "from funlib.geometry.coordinate import Coordinate\n",
    "import math"
   ]
  },
  {
   "attachments": {},
   "cell_type": "markdown",
   "metadata": {},
   "source": [
    "## Trainer"
   ]
  },
  {
   "cell_type": "code",
   "execution_count": 8,
   "metadata": {},
   "outputs": [],
   "source": [
    "# dacapo -> makes it easier to use pytorch\n",
    "\n",
    "trainer_config = GunpowderTrainerConfig(\n",
    "        name=\"default_v2\",\n",
    "        batch_size=2,#how many it takes in at once before updating\n",
    "        learning_rate=0.0001, \n",
    "        augments=[ #augments add more variation so it can learn more different things (makes more generic)\n",
    "            ElasticAugmentConfig(\n",
    "                control_point_spacing=(100, 100, 100),\n",
    "                control_point_displacement_sigma=(10.0, 10.0, 10.0),\n",
    "                rotation_interval=(0, math.pi / 2.0),\n",
    "                subsample=8,\n",
    "                uniform_3d_rotation=True,\n",
    "            ),\n",
    "            IntensityAugmentConfig(\n",
    "                scale=(0.7, 1.3),\n",
    "                shift=(-0.2, 0.2),\n",
    "                clip=True,\n",
    "            ),\n",
    "        ],\n",
    "        clip_raw=True,\n",
    "        num_data_fetchers=20,\n",
    "        snapshot_interval=10000,\n",
    "        min_masked=0.05,\n",
    "    )"
   ]
  },
  {
   "attachments": {},
   "cell_type": "markdown",
   "metadata": {},
   "source": [
    "## Task"
   ]
  },
  {
   "cell_type": "code",
   "execution_count": 10,
   "metadata": {},
   "outputs": [],
   "source": [
    "task_config = AffinitiesTaskConfig(\n",
    "\n",
    "    # task that we want is to predict affinities\n",
    "    # 19 total predicted channels\n",
    "    # 9 neighborhood channels + 10 local shape descriptors\n",
    "    # idk where the local shape descriptors are but its not here\n",
    "    # higher affinity = i think i am connected to that voxel to the one space z from me (1, 0, 0) = 2. the same thing with the others but 3 or 9 \n",
    "    # voxels away from me\n",
    "    # neighborhood \n",
    "            name=f\"3d_lsdaffs\",\n",
    "            neighborhood=[\n",
    "                (1, 0, 0),\n",
    "                (0, 1, 0),\n",
    "                (0, 0, 1),\n",
    "                (3, 0, 0),\n",
    "                (0, 3, 0),\n",
    "                (0, 0, 3),\n",
    "                (9, 0, 0),\n",
    "                (0, 9, 0),\n",
    "                (0, 0, 9),\n",
    "            ],\n",
    "            lsds=True, # do the lsds task (local shape descriptors)\n",
    "        )"
   ]
  },
  {
   "attachments": {},
   "cell_type": "markdown",
   "metadata": {},
   "source": [
    "## Architecture"
   ]
  },
  {
   "attachments": {},
   "cell_type": "markdown",
   "metadata": {},
   "source": [
    "I had an issue where, by default, I created the rasterization at the same resolution as the raw data. But the default architecture (with the upsampling layer `upsample_factors`) expects it to be at 2x the resolution including mask and validation. This resulted in an error when submitting. Since we don't really care about a higher res (at the moment), we can just comment out the upsampling layer (`constant_upsample` and `upsample_factors`)"
   ]
  },
  {
   "cell_type": "code",
   "execution_count": 10,
   "metadata": {},
   "outputs": [],
   "source": [
    "architecture_config = CNNectomeUNetConfig( #here is the actual network architecture (a u-net) the cnnectome\n",
    "        name=\"upsample-unet\",\n",
    "        input_shape=Coordinate(216, 216, 216), # size/shape of input \n",
    "        eval_shape_increase=Coordinate(72, 72, 72),\n",
    "        fmaps_in=1,\n",
    "        num_fmaps=12,\n",
    "        fmaps_out=72,\n",
    "        fmap_inc_factor=6,\n",
    "        downsample_factors=[(2, 2, 2), (3, 3, 3), (3, 3, 3)], # in addition to convolutional layers, also down samples to make it smaller \n",
    "        # and then gets bigger later when upsampling\n",
    "        #constant_upsample=True,\n",
    "        #upsample_factors=[(2, 2, 2)],\n",
    "    )"
   ]
  },
  {
   "attachments": {},
   "cell_type": "markdown",
   "metadata": {},
   "source": [
    "## Datasplit"
   ]
  },
  {
   "attachments": {},
   "cell_type": "markdown",
   "metadata": {},
   "source": [
    "EVERYTHING MUST BE IN Z,Y,X AND NM!"
   ]
  },
  {
   "cell_type": "code",
   "execution_count": 129,
   "metadata": {},
   "outputs": [],
   "source": [
    "# use centers\n",
    "from pathlib import Path\n",
    "from dacapo.experiments.datasplits.datasets.arrays import (\n",
    "    ZarrArrayConfig,\n",
    "    IntensitiesArrayConfig,\n",
    "    CropArrayConfig,\n",
    ")\n",
    "from dacapo.experiments.datasplits.datasets import RawGTDatasetConfig\n",
    "from dacapo.experiments.datasplits import TrainValidateDataSplitConfig\n",
    "from funlib.geometry import Roi\n",
    "\n",
    "# lets look at raw data (input for network)\n",
    "raw_config = ZarrArrayConfig(\n",
    "    name = \"raw\",\n",
    "    file_name=Path(\"/nrs/stern/em_data/jrc_22ak351-leaf-3m/jrc_22ak351-leaf-3m.n5\"),\n",
    "    dataset=\"em/fibsem-uint8/s0\",\n",
    ")\n",
    "\n",
    "# everything is rescaled between 0 and 1, just makes sure u set everytnhing in place with mins/maxes\n",
    "# We get an error without this, and will suggests having it as such https://cell-map.slack.com/archives/D02KBQ990ER/p1683762491204909\n",
    "raw_config = IntensitiesArrayConfig(name=\"raw\", source_array_config = raw_config, min=0, max=255)\n",
    "\n",
    "# ground truth = actual data annotated\n",
    "gt_config = ZarrArrayConfig(\n",
    "    name=\"nuclearpores\", \n",
    "    file_name=Path(\"/nrs/cellmap/ackermand/cellmap/leaf-gall/jrc_22ak351-leaf-3m.n5\"), \n",
    "    dataset=\"nuclearpores_as_cylinders\"\n",
    ")\n",
    "\n",
    "# mask out regions of overlapping nuclear pores\n",
    "# \n",
    "mask_config = ZarrArrayConfig(\n",
    "    name=\"mask\", \n",
    "    file_name=Path(\"/nrs/cellmap/ackermand/cellmap/leaf-gall/masks.zarr\"), \n",
    "    dataset=\"jrc_22ak351-leaf-3m\"\n",
    ")\n",
    "\n",
    "# could do validation as a file\n",
    "# val_gt_config = ZarrArrayConfig(\n",
    "#     name=\"nuclearpores\", file_name=\"/path/to/data.zarr\", dataset=\"labels_val\"\n",
    "# )\n",
    "\n",
    "# NOTE: Everything has to be in z,y,x cries\n",
    "# multiply by resolution to go from nm to pixels\n",
    "validation_roi = Roi(offset[::-1]*resolution, dimensions[::-1]*resolution)\n",
    "val_gt_config = CropArrayConfig(\n",
    "    \"val_gt\", source_array_config=gt_config, roi=validation_roi\n",
    "    # the ground truth config same as source for val\n",
    "    # we just are specifying the region of interest (roi)\n",
    "    # has the offset and dimensions\n",
    "    # instead of writing out the crop (we did it anyway) just pass in region of interest corresponding with val region\n",
    "    # the only reason we wrote out the crop earlier is to visualize easier\n",
    ")\n",
    "\n",
    "# now training data has raw data, unwanted stuff is masked, coordinates of the centers as the sample pts\n",
    "training_data_config = RawGTDatasetConfig(\n",
    "    \"train\",\n",
    "    raw_config = raw_config,\n",
    "    gt_config = gt_config,\n",
    "    sample_points = [Coordinate(NP_center[::-1]) for NP_center in updated_NP_centers],#[Coordinate((29229*8,1862*8,7439*8))], #\n",
    "    mask_config = mask_config\n",
    ")\n",
    "\n",
    "# same with val data config (pass in the val config) only difference is we specific the ROI for val data\n",
    "validation_data_config = RawGTDatasetConfig(\"val\", raw_config = raw_config, gt_config=val_gt_config, mask_config=mask_config)\n",
    "\n",
    "# finally specifying which one is the train and which is the validating data set\n",
    "datasplit_config = TrainValidateDataSplitConfig(\n",
    "    name=\"nuclearpores\", train_configs=[training_data_config], validate_configs=[validation_data_config]\n",
    ")"
   ]
  },
  {
   "cell_type": "code",
   "execution_count": 11,
   "metadata": {},
   "outputs": [],
   "source": [
    "# use pseudorandom centers\n",
    "# same thing just using different centers\n",
    "\n",
    "from pathlib import Path\n",
    "from dacapo.experiments.datasplits.datasets.arrays import (\n",
    "    ZarrArrayConfig,\n",
    "    IntensitiesArrayConfig,\n",
    "    CropArrayConfig,\n",
    ")\n",
    "from dacapo.experiments.datasplits.datasets import RawGTDatasetConfig\n",
    "from dacapo.experiments.datasplits import TrainValidateDataSplitConfig\n",
    "from funlib.geometry import Roi\n",
    "\n",
    "raw_config = ZarrArrayConfig(\n",
    "    name = \"raw\",\n",
    "    file_name=Path(\"/nrs/stern/em_data/jrc_22ak351-leaf-3m/jrc_22ak351-leaf-3m.n5\"),\n",
    "    dataset=\"em/fibsem-uint8/s0\",\n",
    ")\n",
    "# We get an error without this, and will suggests having it as such https://cell-map.slack.com/archives/D02KBQ990ER/p1683762491204909\n",
    "raw_config = IntensitiesArrayConfig(name=\"raw\", source_array_config = raw_config, min=0, max=255)\n",
    "\n",
    "gt_config = ZarrArrayConfig(\n",
    "    name=\"nuclearpores\", \n",
    "    file_name=Path(\"/nrs/cellmap/ackermand/cellmap/leaf-gall/jrc_22ak351-leaf-3m.n5\"), \n",
    "    dataset=\"nuclearpores_as_cylinders\"\n",
    ")\n",
    "\n",
    "# mask out regions of overlapping nuclear pores\n",
    "mask_config = ZarrArrayConfig(\n",
    "    name=\"mask\", \n",
    "    file_name=Path(\"/nrs/cellmap/ackermand/cellmap/leaf-gall/masks.zarr\"), \n",
    "    dataset=\"jrc_22ak351-leaf-3m\"\n",
    ")\n",
    "\n",
    "# could do validation as a file\n",
    "# val_gt_config = ZarrArrayConfig(\n",
    "#     name=\"nuclearpores\", file_name=\"/path/to/data.zarr\", dataset=\"labels_val\"\n",
    "# )\n",
    "\n",
    "# NOTE: Everything has to be in z,y,x\n",
    "validation_roi = Roi(offset[::-1]*resolution, dimensions[::-1]*resolution)\n",
    "val_gt_config = CropArrayConfig(\n",
    "    \"val_gt\", source_array_config=gt_config, roi=validation_roi\n",
    ")\n",
    "training_data_config = RawGTDatasetConfig(\n",
    "    f\"train_pseudorandom_training_centers_maxshift_{max_shift}\",\n",
    "    raw_config = raw_config,\n",
    "    gt_config = gt_config,\n",
    "    sample_points = [Coordinate(pseudorandom_training_center[::-1]) for pseudorandom_training_center in pseudorandom_training_centers],#[Coordinate((29229*8,1862*8,7439*8))], #\n",
    "    mask_config = mask_config\n",
    ")\n",
    "validation_data_config = RawGTDatasetConfig(\"val\", raw_config = raw_config, gt_config=val_gt_config, mask_config=mask_config)\n",
    "datasplit_config = TrainValidateDataSplitConfig(\n",
    "    name=f\"nuclearpores_pseudorandom_training_centers_maxshift_{max_shift}\", train_configs=[training_data_config], validate_configs=[validation_data_config]\n",
    ")"
   ]
  },
  {
   "cell_type": "code",
   "execution_count": null,
   "metadata": {},
   "outputs": [],
   "source": []
  },
  {
   "attachments": {},
   "cell_type": "markdown",
   "metadata": {},
   "source": [
    "## Run"
   ]
  },
  {
   "cell_type": "code",
   "execution_count": 133,
   "metadata": {},
   "outputs": [],
   "source": [
    "from dacapo.experiments import RunConfig\n",
    "from dacapo.experiments.starts import StartConfig\n",
    "from dacapo.store.create_store import create_config_store\n",
    "config_store = create_config_store()\n",
    "\n",
    "start_config = StartConfig(\"setup04\", \"best\") # using a pretrained set (called best) and just fine tuning the weights from there\n",
    "iterations = 200000\n",
    "validation_interval = 5000 # every 5000, validate and check how its doing and update\n",
    "repetitions = 2 # do the validation twice wch time\n",
    "for i in range(repetitions): #NOTE: Here I am redoing with 2 and 3 becuase i think something happened with validation since i didnt reset the validation scores. ultimately this would probably be fine since eventually lower scores would be reached, but initiailly is giving weird results\n",
    "    run_config = RunConfig( # this is what we actualaly running on the cluster\n",
    "        name=(\"_\").join(\n",
    "            [\n",
    "                \"scratch\" if start_config is None else \"finetuned\",\n",
    "                task_config.name, # with the afinitiies\n",
    "                datasplit_config.name, # all the data sets we split (val and train)\n",
    "                architecture_config.name, # UNET arch\n",
    "                trainer_config.name, # the trainer\n",
    "            ]\n",
    "        )\n",
    "        + f\"__test_{i}\",\n",
    "        task_config=task_config,\n",
    "        datasplit_config=datasplit_config,\n",
    "        architecture_config=architecture_config,\n",
    "        trainer_config=trainer_config,\n",
    "        num_iterations=iterations,\n",
    "        validation_interval=validation_interval,\n",
    "        repetition=i,\n",
    "        start_config=start_config,\n",
    "    )\n",
    "    config_store.store_run_config(run_config)\n",
    "#\"dacapo run -r {run_config.name}\""
   ]
  },
  {
   "cell_type": "code",
   "execution_count": 8,
   "metadata": {},
   "outputs": [
    {
     "data": {
      "text/plain": [
       "array([219200,  16000,  42400])"
      ]
     },
     "execution_count": 8,
     "metadata": {},
     "output_type": "execute_result"
    }
   ],
   "source": [
    "offset*8"
   ]
  },
  {
   "cell_type": "code",
   "execution_count": 21,
   "metadata": {},
   "outputs": [
    {
     "data": {
      "text/plain": [
       "'finetuned_3d_lsdaffs_plasmodesmata_upsample-unet_default_v2__1'"
      ]
     },
     "execution_count": 21,
     "metadata": {},
     "output_type": "execute_result"
    }
   ],
   "source": [
    "run_config.name"
   ]
  },
  {
   "attachments": {},
   "cell_type": "markdown",
   "metadata": {},
   "source": [
    "Visualize run before train: https://github.com/janelia-cellmap/ml_experiments/blob/main/scripts/visualize_pipeline.py\n",
    "creates a neuroglancer view, of your training samples. hitting \"t\" refreshes to a new example"
   ]
  },
  {
   "attachments": {},
   "cell_type": "markdown",
   "metadata": {},
   "source": [
    "python ~/Programming/ml_experiments/scripts/visualize_pipeline.py visualize-pipeline -r finetuned_3d_lsdaffs_nuclearpores_upsample-unet_default_v2__1"
   ]
  },
  {
   "attachments": {},
   "cell_type": "markdown",
   "metadata": {},
   "source": [
    "for now i manually created a file in ~/Programming/ml_experiments/configs/cellmap/runs/NP_test/runs.yaml which contains the run names then i changed to the ml_experiments directory and activate the `cellmap_experiments` dir. then i ran `python scripts/submit.py run -r configs/cellmap/runs/NP_test/runs.yaml -b cellmap -q gpu_t4 -n 10`. "
   ]
  },
  {
   "attachments": {},
   "cell_type": "markdown",
   "metadata": {},
   "source": [
    "## Important Note"
   ]
  },
  {
   "attachments": {},
   "cell_type": "markdown",
   "metadata": {},
   "source": [
    "Had to change to `affs.astype(np.float64)` in line 49 /groups/scicompsoft/home/ackermand/Programming/dacapo/dacapo/experiments/tasks/post_processors/watershed_post_processor.py\", line 48, in process\n",
    "\n",
    "otherwise got this error:\n",
    "TypeError: argument 'affinities': type mismatch:\n",
    " from=float32, to=float64\n",
    "\n",
    "also had to add flattening and reshapping during remap in line 69 in same file:\n",
    "`segmentation = npi.remap(segmentation.flatten(), filtered_fragments, replace).reshape(segmentation.shape)`\n",
    "\n",
    "otherwise got error:\n",
    "TypeError: '<' not supported between instances of 'int' and 'bytes'\n",
    "\n",
    "Also had to change a lot in `/groups/scicompsoft/home/ackermand/Programming/dacapo/dacapo/validate.py` and `/groups/scicompsoft/home/ackermand/Programming/dacapo/dacapo/evaluate.py` because previously it would determine the best validation trial as being when a parameter setting produced better results than its previous best. This means that even if parameter_id = 0 was bad, as long as it was better than parameter_id=0 from all previous validations, then it would overwrite the best. I changed it so that the overall best for the metric, eg. `voi` is calculated first, and the best validation set is only overwritten if it is the overall best."
   ]
  },
  {
   "cell_type": "code",
   "execution_count": 27,
   "metadata": {},
   "outputs": [],
   "source": [
    "from numcodecs.gzip import GZip\n",
    "import zarr\n",
    "\n",
    "store = zarr.N5Store(\"./test.n5\")\n",
    "zarr_root = zarr.group(store=store)\n",
    "ds = zarr_root.create_dataset(\n",
    "        overwrite=True,\n",
    "        name=\"test\",\n",
    "        dtype='u1',\n",
    "        shape=zarr_file[dataset].shape,\n",
    "        chunks=128,\n",
    "        write_empty_chunks=False,\n",
    "        compressor=GZip(level=6),\n",
    "    )\n",
    "attributes = ds.attrs\n",
    "attributes[\"pixelResolution\"] = {\n",
    "    \"dimensions\": 3 * [8],\n",
    "    \"unit\": \"nm\",\n",
    "}"
   ]
  },
  {
   "cell_type": "code",
   "execution_count": 25,
   "metadata": {},
   "outputs": [
    {
     "ename": "TypeError",
     "evalue": "'<' not supported between instances of 'int' and 'bytes'",
     "output_type": "error",
     "traceback": [
      "\u001b[0;31m---------------------------------------------------------------------------\u001b[0m",
      "\u001b[0;31mTypeError\u001b[0m                                 Traceback (most recent call last)",
      "File \u001b[0;32m~/miniconda3/envs/plasmodesmata_dacapo/lib/python3.10/site-packages/numpy/core/fromnumeric.py:57\u001b[0m, in \u001b[0;36m_wrapfunc\u001b[0;34m(obj, method, *args, **kwds)\u001b[0m\n\u001b[1;32m     56\u001b[0m \u001b[39mtry\u001b[39;00m:\n\u001b[0;32m---> 57\u001b[0m     \u001b[39mreturn\u001b[39;00m bound(\u001b[39m*\u001b[39;49margs, \u001b[39m*\u001b[39;49m\u001b[39m*\u001b[39;49mkwds)\n\u001b[1;32m     58\u001b[0m \u001b[39mexcept\u001b[39;00m \u001b[39mTypeError\u001b[39;00m:\n\u001b[1;32m     59\u001b[0m     \u001b[39m# A TypeError occurs if the object does have such a method in its\u001b[39;00m\n\u001b[1;32m     60\u001b[0m     \u001b[39m# class, but its signature is not identical to that of NumPy's. This\u001b[39;00m\n\u001b[0;32m   (...)\u001b[0m\n\u001b[1;32m     64\u001b[0m     \u001b[39m# Call _wrapit from within the except clause to ensure a potential\u001b[39;00m\n\u001b[1;32m     65\u001b[0m     \u001b[39m# exception has a traceback chain.\u001b[39;00m\n",
      "\u001b[0;31mTypeError\u001b[0m: '<' not supported between instances of 'int' and 'bytes'",
      "\nDuring handling of the above exception, another exception occurred:\n",
      "\u001b[0;31mTypeError\u001b[0m                                 Traceback (most recent call last)",
      "Cell \u001b[0;32mIn[25], line 15\u001b[0m\n\u001b[1;32m     13\u001b[0m     values \u001b[39m=\u001b[39m replace\n\u001b[1;32m     14\u001b[0m \u001b[39m#idx = indices(keys, input.flatten(), missing='mask')\u001b[39;00m\n\u001b[0;32m---> 15\u001b[0m segmentation \u001b[39m=\u001b[39m npi\u001b[39m.\u001b[39;49mremap(segmentation, keys, values)\u001b[39m.\u001b[39mreshape(segmentation\u001b[39m.\u001b[39mshape)\n",
      "File \u001b[0;32m~/miniconda3/envs/plasmodesmata_dacapo/lib/python3.10/site-packages/numpy_indexed/arraysetops.py:195\u001b[0m, in \u001b[0;36mremap\u001b[0;34m(input, keys, values, missing, inplace)\u001b[0m\n\u001b[1;32m    193\u001b[0m values \u001b[39m=\u001b[39m np\u001b[39m.\u001b[39masarray(values)\n\u001b[1;32m    194\u001b[0m \u001b[39mif\u001b[39;00m missing \u001b[39m==\u001b[39m \u001b[39m'\u001b[39m\u001b[39mignore\u001b[39m\u001b[39m'\u001b[39m:\n\u001b[0;32m--> 195\u001b[0m     idx \u001b[39m=\u001b[39m indices(keys, \u001b[39minput\u001b[39;49m, missing\u001b[39m=\u001b[39;49m\u001b[39m'\u001b[39;49m\u001b[39mmask\u001b[39;49m\u001b[39m'\u001b[39;49m)\n\u001b[1;32m    196\u001b[0m     mask \u001b[39m=\u001b[39m np\u001b[39m.\u001b[39mlogical_not(idx\u001b[39m.\u001b[39mmask)\n\u001b[1;32m    197\u001b[0m     idx \u001b[39m=\u001b[39m idx\u001b[39m.\u001b[39mdata\n",
      "File \u001b[0;32m~/miniconda3/envs/plasmodesmata_dacapo/lib/python3.10/site-packages/numpy_indexed/arraysetops.py:152\u001b[0m, in \u001b[0;36mindices\u001b[0;34m(this, that, axis, missing)\u001b[0m\n\u001b[1;32m    149\u001b[0m that \u001b[39m=\u001b[39m as_index(that, axis\u001b[39m=\u001b[39maxis, base\u001b[39m=\u001b[39m\u001b[39mTrue\u001b[39;00m, lex_as_struct\u001b[39m=\u001b[39m\u001b[39mTrue\u001b[39;00m)\n\u001b[1;32m    151\u001b[0m \u001b[39m# use raw private keys here, rather than public unpacked keys\u001b[39;00m\n\u001b[0;32m--> 152\u001b[0m insertion \u001b[39m=\u001b[39m np\u001b[39m.\u001b[39;49msearchsorted(this\u001b[39m.\u001b[39;49m_keys, that\u001b[39m.\u001b[39;49m_keys, sorter\u001b[39m=\u001b[39;49mthis\u001b[39m.\u001b[39;49msorter, side\u001b[39m=\u001b[39;49m\u001b[39m'\u001b[39;49m\u001b[39mleft\u001b[39;49m\u001b[39m'\u001b[39;49m)\n\u001b[1;32m    153\u001b[0m indices \u001b[39m=\u001b[39m np\u001b[39m.\u001b[39mtake(this\u001b[39m.\u001b[39msorter, insertion, mode\u001b[39m=\u001b[39m\u001b[39m'\u001b[39m\u001b[39mclip\u001b[39m\u001b[39m'\u001b[39m)\n\u001b[1;32m    155\u001b[0m \u001b[39mif\u001b[39;00m missing \u001b[39m!=\u001b[39m \u001b[39m'\u001b[39m\u001b[39mignore\u001b[39m\u001b[39m'\u001b[39m:\n",
      "File \u001b[0;32m<__array_function__ internals>:200\u001b[0m, in \u001b[0;36msearchsorted\u001b[0;34m(*args, **kwargs)\u001b[0m\n",
      "File \u001b[0;32m~/miniconda3/envs/plasmodesmata_dacapo/lib/python3.10/site-packages/numpy/core/fromnumeric.py:1413\u001b[0m, in \u001b[0;36msearchsorted\u001b[0;34m(a, v, side, sorter)\u001b[0m\n\u001b[1;32m   1345\u001b[0m \u001b[39m@array_function_dispatch\u001b[39m(_searchsorted_dispatcher)\n\u001b[1;32m   1346\u001b[0m \u001b[39mdef\u001b[39;00m \u001b[39msearchsorted\u001b[39m(a, v, side\u001b[39m=\u001b[39m\u001b[39m'\u001b[39m\u001b[39mleft\u001b[39m\u001b[39m'\u001b[39m, sorter\u001b[39m=\u001b[39m\u001b[39mNone\u001b[39;00m):\n\u001b[1;32m   1347\u001b[0m \u001b[39m    \u001b[39m\u001b[39m\"\"\"\u001b[39;00m\n\u001b[1;32m   1348\u001b[0m \u001b[39m    Find indices where elements should be inserted to maintain order.\u001b[39;00m\n\u001b[1;32m   1349\u001b[0m \n\u001b[0;32m   (...)\u001b[0m\n\u001b[1;32m   1411\u001b[0m \n\u001b[1;32m   1412\u001b[0m \u001b[39m    \"\"\"\u001b[39;00m\n\u001b[0;32m-> 1413\u001b[0m     \u001b[39mreturn\u001b[39;00m _wrapfunc(a, \u001b[39m'\u001b[39;49m\u001b[39msearchsorted\u001b[39;49m\u001b[39m'\u001b[39;49m, v, side\u001b[39m=\u001b[39;49mside, sorter\u001b[39m=\u001b[39;49msorter)\n",
      "File \u001b[0;32m~/miniconda3/envs/plasmodesmata_dacapo/lib/python3.10/site-packages/numpy/core/fromnumeric.py:66\u001b[0m, in \u001b[0;36m_wrapfunc\u001b[0;34m(obj, method, *args, **kwds)\u001b[0m\n\u001b[1;32m     57\u001b[0m     \u001b[39mreturn\u001b[39;00m bound(\u001b[39m*\u001b[39margs, \u001b[39m*\u001b[39m\u001b[39m*\u001b[39mkwds)\n\u001b[1;32m     58\u001b[0m \u001b[39mexcept\u001b[39;00m \u001b[39mTypeError\u001b[39;00m:\n\u001b[1;32m     59\u001b[0m     \u001b[39m# A TypeError occurs if the object does have such a method in its\u001b[39;00m\n\u001b[1;32m     60\u001b[0m     \u001b[39m# class, but its signature is not identical to that of NumPy's. This\u001b[39;00m\n\u001b[0;32m   (...)\u001b[0m\n\u001b[1;32m     64\u001b[0m     \u001b[39m# Call _wrapit from within the except clause to ensure a potential\u001b[39;00m\n\u001b[1;32m     65\u001b[0m     \u001b[39m# exception has a traceback chain.\u001b[39;00m\n\u001b[0;32m---> 66\u001b[0m     \u001b[39mreturn\u001b[39;00m _wrapit(obj, method, \u001b[39m*\u001b[39;49margs, \u001b[39m*\u001b[39;49m\u001b[39m*\u001b[39;49mkwds)\n",
      "File \u001b[0;32m~/miniconda3/envs/plasmodesmata_dacapo/lib/python3.10/site-packages/numpy/core/fromnumeric.py:43\u001b[0m, in \u001b[0;36m_wrapit\u001b[0;34m(obj, method, *args, **kwds)\u001b[0m\n\u001b[1;32m     41\u001b[0m \u001b[39mexcept\u001b[39;00m \u001b[39mAttributeError\u001b[39;00m:\n\u001b[1;32m     42\u001b[0m     wrap \u001b[39m=\u001b[39m \u001b[39mNone\u001b[39;00m\n\u001b[0;32m---> 43\u001b[0m result \u001b[39m=\u001b[39m \u001b[39mgetattr\u001b[39;49m(asarray(obj), method)(\u001b[39m*\u001b[39;49margs, \u001b[39m*\u001b[39;49m\u001b[39m*\u001b[39;49mkwds)\n\u001b[1;32m     44\u001b[0m \u001b[39mif\u001b[39;00m wrap:\n\u001b[1;32m     45\u001b[0m     \u001b[39mif\u001b[39;00m \u001b[39mnot\u001b[39;00m \u001b[39misinstance\u001b[39m(result, mu\u001b[39m.\u001b[39mndarray):\n",
      "\u001b[0;31mTypeError\u001b[0m: '<' not supported between instances of 'int' and 'bytes'"
     ]
    }
   ],
   "source": [
    "import pickle\n",
    "import numpy_indexed as npi\n",
    "import numpy as np\n",
    "from numpy_indexed.funcs import *\n",
    "from numpy_indexed.index import *\n",
    "from builtins import *\n",
    "from numpy_indexed.arraysetops import indices\n",
    "\n",
    "with open('remap.pkl', 'rb') as f:\n",
    "    segmentation, filtered_fragments, replace = pickle.load(f)\n",
    "    input=segmentation\n",
    "    keys = filtered_fragments\n",
    "    values = replace\n",
    "#idx = indices(keys, input.flatten(), missing='mask')\n",
    "segmentation = npi.remap(segmentation, keys, values).reshape(segmentation.shape)"
   ]
  },
  {
   "attachments": {},
   "cell_type": "markdown",
   "metadata": {},
   "source": [
    "## Prediction"
   ]
  },
  {
   "attachments": {},
   "cell_type": "markdown",
   "metadata": {},
   "source": [
    "1. symlink to default directory `/nrs/cellmap/data/` as seen in `ml_experiments/configs/yamls/constants.yaml`\n",
    "2. add `nuclearpores` to `ml_experiments/configs/yamls/targets/instance_seg.yaml`\n",
    "3. copy `ml_experiments/configs/cellmap/predictions/jrc_mu-liver-zon-1/2023-02-10.yaml` to `ml_experiments/configs/cellmap/predictions/NP_test/2023-05-17.yaml` and update accordingly.\n",
    "4. Try to predict using this: `python scripts/submit.py predict -p configs/cellmap/predictions/NP_test/2023-05-17.yaml -w 60`, based on this region [this region](http://renderer.int.janelia.org:8080/ng/#!%7B%22dimensions%22:%7B%22x%22:%5B1e-9%2C%22m%22%5D%2C%22y%22:%5B1e-9%2C%22m%22%5D%2C%22z%22:%5B1e-9%2C%22m%22%5D%7D%2C%22position%22:%5B228016.65625%2C14467.8486328125%2C58427.31640625%5D%2C%22crossSectionOrientation%22:%5B0%2C1%2C0%2C0%5D%2C%22crossSectionScale%22:9.803848825583122%2C%22projectionOrientation%22:%5B-0.33944520354270935%2C-0.9385530948638916%2C-0.019331367686390877%2C-0.05934092774987221%5D%2C%22projectionScale%22:6636.598844056%2C%22layers%22:%5B%7B%22type%22:%22image%22%2C%22source%22:%22n5://http://renderer.int.janelia.org:8080/n5_sources/stern/jrc_22ak351-leaf-3m.n5/em/fibsem-uint8%22%2C%22tab%22:%22source%22%2C%22shaderControls%22:%7B%22normalized%22:%7B%22range%22:%5B40%2C140%5D%7D%7D%2C%22crossSectionRenderScale%22:0.12964438055577399%2C%22name%22:%22fibsem-uint8%22%7D%2C%7B%22type%22:%22segmentation%22%2C%22source%22:%5B%22n5://http://cellmap-vm1.int.janelia.org/nrs/ackermand/cellmap/leaf-gall/jrc_22ak351-leaf-3m.n5/plasmodesmata_column_cells/%22%2C%22precomputed://http://cellmap-vm1.int.janelia.org/nrs/ackermand/meshes/multiresolution/leaf-gall/jrc_22ak351-leaf-3m/plasmodesmata_column_cells/multires%22%5D%2C%22tab%22:%22segments%22%2C%22selectedAlpha%22:0.43%2C%22meshSilhouetteRendering%22:2.6%2C%22segmentDefaultColor%22:%22#9900ff%22%2C%22name%22:%22plasmodesmata_column_cells%22%2C%22visible%22:false%7D%2C%7B%22type%22:%22segmentation%22%2C%22source%22:%5B%22n5://http://cellmap-vm1.int.janelia.org/nrs/ackermand/cellmap/leaf-gall/jrc_22ak351-leaf-3m.n5/plasmodesmata_column_target_cells%22%2C%22precomputed://http://cellmap-vm1.int.janelia.org/nrs/ackermand/meshes/multiresolution/leaf-gall/jrc_22ak351-leaf-3m/plasmodesmata_column_target_cells/multires%22%5D%2C%22tab%22:%22source%22%2C%22selectedAlpha%22:0.2%2C%22segmentDefaultColor%22:%22#1fffb4%22%2C%22name%22:%22plasmodesmata_column_target_cells%22%7D%2C%7B%22type%22:%22annotation%22%2C%22source%22:%7B%22url%22:%22local://annotations%22%2C%22transform%22:%7B%22outputDimensions%22:%7B%22x%22:%5B1e-9%2C%22m%22%5D%2C%22y%22:%5B1e-9%2C%22m%22%5D%2C%22z%22:%5B1e-9%2C%22m%22%5D%7D%2C%22inputDimensions%22:%7B%220%22:%5B8e-9%2C%22m%22%5D%2C%221%22:%5B8e-9%2C%22m%22%5D%2C%222%22:%5B8e-9%2C%22m%22%5D%7D%7D%7D%2C%22tool%22:%22annotateLine%22%2C%22tab%22:%22source%22%2C%22annotations%22:%5B%5D%2C%22shader%22:%22#uicontrol%20float%20lineWidth%20slider%28min=1%2C%20max=50%2C%20step=1%2C%20default=10%29%5Cn#uicontrol%20vec3%20color%20color%28default=%5C%22white%5C%22%29%5Cn%5Cnvoid%20main%28%29%20%7B%5Cn%20%20setLineWidth%28lineWidth%29%3B%5Cn%20%20setColor%28color%29%3B%5Cn%7D%5Cn%5Cn%22%2C%22shaderControls%22:%7B%22color%22:%22#ff0000%22%7D%2C%22name%22:%22annotations%22%7D%2C%7B%22type%22:%22annotation%22%2C%22source%22:%22precomputed://https://cellmap-vm1.int.janelia.org/dm11/ackermand/neuroglancer_annotations/20230510_114340%22%2C%22tab%22:%22source%22%2C%22annotationColor%22:%22#8b8b23%22%2C%22shader%22:%22#uicontrol%20float%20lineWidth%20slider%28min=1%2C%20max=50%2C%20step=1%2C%20default=10%29%5Cn#uicontrol%20vec3%20color%20color%28default=%5C%22white%5C%22%29%5Cn%5Cnvoid%20main%28%29%20%7B%5Cn%20%20setLineWidth%28lineWidth%29%3B%5Cn%20%20setColor%28color%29%3B%5Cn%7D%5Cn%5Cn%22%2C%22shaderControls%22:%7B%22color%22:%22#ff0000%22%7D%2C%22name%22:%22saved_annotations%22%7D%2C%7B%22type%22:%22segmentation%22%2C%22source%22:%7B%22url%22:%22n5://http://cellmap-vm1.int.janelia.org/nrs/ackermand/cellmap/leaf-gall/jrc_22ak351-leaf-3m.n5/validation_crop/%22%2C%22transform%22:%7B%22matrix%22:%5B%5B1%2C0%2C0%2C219200%5D%2C%5B0%2C1%2C0%2C16000%5D%2C%5B0%2C0%2C1%2C42400%5D%5D%2C%22outputDimensions%22:%7B%22x%22:%5B1e-9%2C%22m%22%5D%2C%22y%22:%5B1e-9%2C%22m%22%5D%2C%22z%22:%5B1e-9%2C%22m%22%5D%7D%7D%2C%22subsources%22:%7B%22default%22:true%2C%22bounds%22:true%7D%2C%22enableDefaultSubsources%22:false%7D%2C%22tab%22:%22source%22%2C%22name%22:%22validation_crop%22%7D%5D%2C%22showSlices%22:false%2C%22selectedLayer%22:%7B%22visible%22:true%2C%22layer%22:%22validation_crop%22%7D%2C%22layout%22:%224panel%22%2C%22statistics%22:%7B%22visible%22:true%7D%2C%22selection%22:%7B%22layers%22:%7B%22annotations%22:%7B%22annotationId%22:%22df5661d17178a2ccd1624582136e59c925677961%22%2C%22annotationSource%22:0%2C%22annotationSubsource%22:%22default%22%7D%7D%7D%7D)\n",
    "\n",
    "Once we have lsds we need to do affinities\n",
    "\n",
    "1. `python scripts/post_processing_david/02_extract_fragments_blockwise.py`\n",
    "2. "
   ]
  },
  {
   "cell_type": "code",
   "execution_count": 17,
   "metadata": {},
   "outputs": [
    {
     "name": "stdout",
     "output_type": "stream",
     "text": [
      "[1, 2, 3] [4, 5, 6]\n"
     ]
    }
   ],
   "source": [
    "import yaml\n",
    "from pathlib import Path\n",
    "prediction_data = yaml.safe_load(Path(\"/groups/scicompsoft/home/ackermand/Programming/ml_experiments/configs/cellmap/predictions/pd_test/2023-05-17.yaml\").open(\"r\").read())\n",
    "for matrix in prediction_data[\"predictions\"]:\n",
    "    offset, shape = matrix.get(\"roi\", (None, None))\n",
    "    print(offset,shape)"
   ]
  },
  {
   "attachments": {},
   "cell_type": "markdown",
   "metadata": {},
   "source": [
    "# scratchspace"
   ]
  },
  {
   "attachments": {},
   "cell_type": "markdown",
   "metadata": {},
   "source": [
    "## watershed"
   ]
  },
  {
   "cell_type": "code",
   "execution_count": 4,
   "metadata": {},
   "outputs": [
    {
     "name": "stdout",
     "output_type": "stream",
     "text": [
      "[[[-0.5 -0.5 -0.5]\n",
      "  [-0.5 -0.5 -0.5]\n",
      "  [-0.5 -0.5 -0.5]]\n",
      "\n",
      " [[-0.5 -0.5 -0.5]\n",
      "  [-0.5 -0.5 -0.5]\n",
      "  [-0.5 -0.5 -0.5]]] [[0 1 2]\n",
      " [3 4 5]\n",
      " [6 7 8]]\n"
     ]
    }
   ],
   "source": [
    "import mwatershed\n",
    "import numpy as  np\n",
    "offsets = [(0, 1), (1, 0)]\n",
    "affinities = (\n",
    "    np.array(\n",
    "        #[[[0, 1, 0], [0, 1, 0], [0, 1, 0]], \n",
    "        # [[0, 0, 0], [1, 1, 1], [0, 0, 0]]],\n",
    "        [[[0, 0, 0], [0, 0, 0], [0, 0, 0]], \n",
    "        [[0, 0, 0], [0, 0, 0], [0, 0, 0]]],\n",
    "        dtype=float,\n",
    "    )\n",
    "    - 0.5\n",
    ")\n",
    "# 9 nodes. connecting edges:\n",
    "# 2-3, 5-6, 8-9, 4-7, 5-8, 6-9\n",
    "# components: [(1,),(2,3),(4,7),(5,6,8,9)]\n",
    "\n",
    "components = mwatershed.agglom(affinities, offsets)\n",
    "print(affinities,components)"
   ]
  },
  {
   "cell_type": "code",
   "execution_count": 15,
   "metadata": {},
   "outputs": [
    {
     "name": "stdout",
     "output_type": "stream",
     "text": [
      "[[[1 1]\n",
      "  [1 7]]\n",
      "\n",
      " [[1 7]\n",
      "  [7 7]]]\n"
     ]
    }
   ],
   "source": [
    "import mwatershed\n",
    "offsets = [(0, 0, 1), (0, 1, 0), (1, 0, 0)]\n",
    "affinities = (\n",
    "    np.array(\n",
    "        [\n",
    "            [[[1, 0], [0, 0]], [[0, 0], [1, 0]]],\n",
    "            [[[1, 0], [0, 0]], [[0, 1], [0, 0]]],\n",
    "            [[[1, 0], [0, 1]], [[0, 0], [0, 0]]],\n",
    "        ],\n",
    "        dtype=float,\n",
    "    )\n",
    "    - 0.5\n",
    ")\n",
    "# 8 nodes. connecting edges:\n",
    "# 1-2, 1-3, 1-7, 4-8, 6-8, 7-8\n",
    "# components: [(1,2,3,7),(4,6,7,8)]\n",
    "\n",
    "components = mwatershed.agglom(affinities, offsets)\n",
    "print(components)\n",
    "#assert set(np.unique(components)) == set([1, 4])\n"
   ]
  },
  {
   "cell_type": "code",
   "execution_count": 2,
   "metadata": {},
   "outputs": [
    {
     "name": "stderr",
     "output_type": "stream",
     "text": [
      "WARNING:/groups/scicompsoft/home/ackermand/Programming/dacapo/dacapo/experiments/starts/start.py:Error(s) in loading state_dict for Model:\n",
      "\tMissing key(s) in state_dict: \"architecture.unet.l_conv.0.conv_pass.0.weight\", \"architecture.unet.l_conv.0.conv_pass.0.bias\", \"architecture.unet.l_conv.0.conv_pass.2.weight\", \"architecture.unet.l_conv.0.conv_pass.2.bias\", \"architecture.unet.l_conv.1.conv_pass.0.weight\", \"architecture.unet.l_conv.1.conv_pass.0.bias\", \"architecture.unet.l_conv.1.conv_pass.2.weight\", \"architecture.unet.l_conv.1.conv_pass.2.bias\", \"architecture.unet.l_conv.2.conv_pass.0.weight\", \"architecture.unet.l_conv.2.conv_pass.0.bias\", \"architecture.unet.l_conv.2.conv_pass.2.weight\", \"architecture.unet.l_conv.2.conv_pass.2.bias\", \"architecture.unet.l_conv.3.conv_pass.0.weight\", \"architecture.unet.l_conv.3.conv_pass.0.bias\", \"architecture.unet.l_conv.3.conv_pass.2.weight\", \"architecture.unet.l_conv.3.conv_pass.2.bias\", \"architecture.unet.r_up.0.0.up.1.weight\", \"architecture.unet.r_up.0.0.up.1.bias\", \"architecture.unet.r_up.0.1.up.1.weight\", \"architecture.unet.r_up.0.1.up.1.bias\", \"architecture.unet.r_up.0.2.up.1.weight\", \"architecture.unet.r_up.0.2.up.1.bias\", \"architecture.unet.r_conv.0.0.conv_pass.0.weight\", \"architecture.unet.r_conv.0.0.conv_pass.0.bias\", \"architecture.unet.r_conv.0.0.conv_pass.2.weight\", \"architecture.unet.r_conv.0.0.conv_pass.2.bias\", \"architecture.unet.r_conv.0.1.conv_pass.0.weight\", \"architecture.unet.r_conv.0.1.conv_pass.0.bias\", \"architecture.unet.r_conv.0.1.conv_pass.2.weight\", \"architecture.unet.r_conv.0.1.conv_pass.2.bias\", \"architecture.unet.r_conv.0.2.conv_pass.0.weight\", \"architecture.unet.r_conv.0.2.conv_pass.0.bias\", \"architecture.unet.r_conv.0.2.conv_pass.2.weight\", \"architecture.unet.r_conv.0.2.conv_pass.2.bias\", \"chain.0.unet.l_conv.0.conv_pass.0.weight\", \"chain.0.unet.l_conv.0.conv_pass.0.bias\", \"chain.0.unet.l_conv.0.conv_pass.2.weight\", \"chain.0.unet.l_conv.0.conv_pass.2.bias\", \"chain.0.unet.l_conv.1.conv_pass.0.weight\", \"chain.0.unet.l_conv.1.conv_pass.0.bias\", \"chain.0.unet.l_conv.1.conv_pass.2.weight\", \"chain.0.unet.l_conv.1.conv_pass.2.bias\", \"chain.0.unet.l_conv.2.conv_pass.0.weight\", \"chain.0.unet.l_conv.2.conv_pass.0.bias\", \"chain.0.unet.l_conv.2.conv_pass.2.weight\", \"chain.0.unet.l_conv.2.conv_pass.2.bias\", \"chain.0.unet.l_conv.3.conv_pass.0.weight\", \"chain.0.unet.l_conv.3.conv_pass.0.bias\", \"chain.0.unet.l_conv.3.conv_pass.2.weight\", \"chain.0.unet.l_conv.3.conv_pass.2.bias\", \"chain.0.unet.r_up.0.0.up.1.weight\", \"chain.0.unet.r_up.0.0.up.1.bias\", \"chain.0.unet.r_up.0.1.up.1.weight\", \"chain.0.unet.r_up.0.1.up.1.bias\", \"chain.0.unet.r_up.0.2.up.1.weight\", \"chain.0.unet.r_up.0.2.up.1.bias\", \"chain.0.unet.r_conv.0.0.conv_pass.0.weight\", \"chain.0.unet.r_conv.0.0.conv_pass.0.bias\", \"chain.0.unet.r_conv.0.0.conv_pass.2.weight\", \"chain.0.unet.r_conv.0.0.conv_pass.2.bias\", \"chain.0.unet.r_conv.0.1.conv_pass.0.weight\", \"chain.0.unet.r_conv.0.1.conv_pass.0.bias\", \"chain.0.unet.r_conv.0.1.conv_pass.2.weight\", \"chain.0.unet.r_conv.0.1.conv_pass.2.bias\", \"chain.0.unet.r_conv.0.2.conv_pass.0.weight\", \"chain.0.unet.r_conv.0.2.conv_pass.0.bias\", \"chain.0.unet.r_conv.0.2.conv_pass.2.weight\", \"chain.0.unet.r_conv.0.2.conv_pass.2.bias\". \n",
      "\tUnexpected key(s) in state_dict: \"architecture.unet.0.l_conv.0.conv_pass.0.weight\", \"architecture.unet.0.l_conv.0.conv_pass.0.bias\", \"architecture.unet.0.l_conv.0.conv_pass.2.weight\", \"architecture.unet.0.l_conv.0.conv_pass.2.bias\", \"architecture.unet.0.l_conv.1.conv_pass.0.weight\", \"architecture.unet.0.l_conv.1.conv_pass.0.bias\", \"architecture.unet.0.l_conv.1.conv_pass.2.weight\", \"architecture.unet.0.l_conv.1.conv_pass.2.bias\", \"architecture.unet.0.l_conv.2.conv_pass.0.weight\", \"architecture.unet.0.l_conv.2.conv_pass.0.bias\", \"architecture.unet.0.l_conv.2.conv_pass.2.weight\", \"architecture.unet.0.l_conv.2.conv_pass.2.bias\", \"architecture.unet.0.l_conv.3.conv_pass.0.weight\", \"architecture.unet.0.l_conv.3.conv_pass.0.bias\", \"architecture.unet.0.l_conv.3.conv_pass.2.weight\", \"architecture.unet.0.l_conv.3.conv_pass.2.bias\", \"architecture.unet.0.r_up.0.0.up.1.weight\", \"architecture.unet.0.r_up.0.0.up.1.bias\", \"architecture.unet.0.r_up.0.1.up.1.weight\", \"architecture.unet.0.r_up.0.1.up.1.bias\", \"architecture.unet.0.r_up.0.2.up.1.weight\", \"architecture.unet.0.r_up.0.2.up.1.bias\", \"architecture.unet.0.r_conv.0.0.conv_pass.0.weight\", \"architecture.unet.0.r_conv.0.0.conv_pass.0.bias\", \"architecture.unet.0.r_conv.0.0.conv_pass.2.weight\", \"architecture.unet.0.r_conv.0.0.conv_pass.2.bias\", \"architecture.unet.0.r_conv.0.1.conv_pass.0.weight\", \"architecture.unet.0.r_conv.0.1.conv_pass.0.bias\", \"architecture.unet.0.r_conv.0.1.conv_pass.2.weight\", \"architecture.unet.0.r_conv.0.1.conv_pass.2.bias\", \"architecture.unet.0.r_conv.0.2.conv_pass.0.weight\", \"architecture.unet.0.r_conv.0.2.conv_pass.0.bias\", \"architecture.unet.0.r_conv.0.2.conv_pass.2.weight\", \"architecture.unet.0.r_conv.0.2.conv_pass.2.bias\", \"architecture.unet.1.up.1.weight\", \"architecture.unet.1.up.1.bias\", \"architecture.unet.2.conv_pass.0.weight\", \"architecture.unet.2.conv_pass.0.bias\", \"architecture.unet.2.conv_pass.2.weight\", \"architecture.unet.2.conv_pass.2.bias\", \"chain.0.unet.0.l_conv.0.conv_pass.0.weight\", \"chain.0.unet.0.l_conv.0.conv_pass.0.bias\", \"chain.0.unet.0.l_conv.0.conv_pass.2.weight\", \"chain.0.unet.0.l_conv.0.conv_pass.2.bias\", \"chain.0.unet.0.l_conv.1.conv_pass.0.weight\", \"chain.0.unet.0.l_conv.1.conv_pass.0.bias\", \"chain.0.unet.0.l_conv.1.conv_pass.2.weight\", \"chain.0.unet.0.l_conv.1.conv_pass.2.bias\", \"chain.0.unet.0.l_conv.2.conv_pass.0.weight\", \"chain.0.unet.0.l_conv.2.conv_pass.0.bias\", \"chain.0.unet.0.l_conv.2.conv_pass.2.weight\", \"chain.0.unet.0.l_conv.2.conv_pass.2.bias\", \"chain.0.unet.0.l_conv.3.conv_pass.0.weight\", \"chain.0.unet.0.l_conv.3.conv_pass.0.bias\", \"chain.0.unet.0.l_conv.3.conv_pass.2.weight\", \"chain.0.unet.0.l_conv.3.conv_pass.2.bias\", \"chain.0.unet.0.r_up.0.0.up.1.weight\", \"chain.0.unet.0.r_up.0.0.up.1.bias\", \"chain.0.unet.0.r_up.0.1.up.1.weight\", \"chain.0.unet.0.r_up.0.1.up.1.bias\", \"chain.0.unet.0.r_up.0.2.up.1.weight\", \"chain.0.unet.0.r_up.0.2.up.1.bias\", \"chain.0.unet.0.r_conv.0.0.conv_pass.0.weight\", \"chain.0.unet.0.r_conv.0.0.conv_pass.0.bias\", \"chain.0.unet.0.r_conv.0.0.conv_pass.2.weight\", \"chain.0.unet.0.r_conv.0.0.conv_pass.2.bias\", \"chain.0.unet.0.r_conv.0.1.conv_pass.0.weight\", \"chain.0.unet.0.r_conv.0.1.conv_pass.0.bias\", \"chain.0.unet.0.r_conv.0.1.conv_pass.2.weight\", \"chain.0.unet.0.r_conv.0.1.conv_pass.2.bias\", \"chain.0.unet.0.r_conv.0.2.conv_pass.0.weight\", \"chain.0.unet.0.r_conv.0.2.conv_pass.0.bias\", \"chain.0.unet.0.r_conv.0.2.conv_pass.2.weight\", \"chain.0.unet.0.r_conv.0.2.conv_pass.2.bias\", \"chain.0.unet.1.up.1.weight\", \"chain.0.unet.1.up.1.bias\", \"chain.0.unet.2.conv_pass.0.weight\", \"chain.0.unet.2.conv_pass.0.bias\", \"chain.0.unet.2.conv_pass.2.weight\", \"chain.0.unet.2.conv_pass.2.bias\". \n",
      "\tsize mismatch for prediction_head.weight: copying a param with shape torch.Size([14, 72, 1, 1, 1]) from checkpoint, the shape in current model is torch.Size([19, 72, 1, 1, 1]).\n",
      "\tsize mismatch for prediction_head.bias: copying a param with shape torch.Size([14]) from checkpoint, the shape in current model is torch.Size([19]).\n",
      "\tsize mismatch for chain.1.weight: copying a param with shape torch.Size([14, 72, 1, 1, 1]) from checkpoint, the shape in current model is torch.Size([19, 72, 1, 1, 1]).\n",
      "\tsize mismatch for chain.1.bias: copying a param with shape torch.Size([14]) from checkpoint, the shape in current model is torch.Size([19]).\n"
     ]
    },
    {
     "name": "stdout",
     "output_type": "stream",
     "text": [
      "1.154080601777265\n"
     ]
    }
   ],
   "source": [
    "from dacapo.predict import predict\n",
    "from dacapo.compute_context import LocalTorch, ComputeContext\n",
    "from dacapo.experiments import Run, ValidationIterationScores\n",
    "from dacapo.experiments.datasplits.datasets.arrays import ZarrArray\n",
    "from dacapo.store import (\n",
    "    create_array_store,\n",
    "    create_config_store,\n",
    "    create_stats_store,\n",
    "    create_weights_store,\n",
    ")\n",
    "\n",
    "import torch\n",
    "\n",
    "from pathlib import Path\n",
    "import logging\n",
    "\n",
    "logger = logging.getLogger(__name__)\n",
    "run_name = \"finetuned_3d_lsdaffs_nuclearpores_upsample-unet_default_v2__0\"\n",
    "\n",
    "config_store = create_config_store()\n",
    "run_config = config_store.retrieve_run_config(run_name)\n",
    "run = Run(run_config)\n",
    "\n",
    "# read in previous training/validation stats\n",
    "\n",
    "stats_store = create_stats_store()\n",
    "run.training_stats = stats_store.retrieve_training_stats(run_name)\n",
    "run.validation_scores.scores = stats_store.retrieve_validation_iteration_scores(\n",
    "    run_name\n",
    ")\n",
    "\n",
    "evaluator = run.task.evaluator\n",
    "evaluator.set_best(run.validation_scores)\n",
    "\n",
    "#weights_store = create_weights_store()\n",
    "#print(weights_store.retrieve_best(run_name, \"voi\", \"val\"))\n",
    "\n",
    "# Initialize the evaluator with the best scores seen so far\n",
    "#evaluator.set_best(run.validation_scores)\n",
    "\n",
    "from dacapo.experiments.tasks.evaluators import InstanceEvaluationScores\n",
    "from dacapo.experiments.datasplits.datasets import Dataset\n",
    "\n",
    "scores = InstanceEvaluationScores()\n",
    "for dataset,_,_ in evaluator.best_scores.keys():\n",
    "    break\n",
    "overall_best_score = evaluator.get_overall_best(dataset, \"voi_merge\", scores)\n",
    "print(overall_best_score)\n"
   ]
  },
  {
   "cell_type": "code",
   "execution_count": 12,
   "metadata": {},
   "outputs": [],
   "source": [
    "z = zarr.open('test.n5', mode='w')\n",
    "z[1,2,3]=1\n"
   ]
  },
  {
   "cell_type": "code",
   "execution_count": 33,
   "metadata": {},
   "outputs": [],
   "source": [
    "arr = np.zeros([128*3]*3)\n",
    "starts = np.array([100.5,20,5])\n",
    "ends = np.array([150,40.5,20])\n",
    "radius = 3\n",
    "index_iterable = np.ndindex(*arr.shape)\n"
   ]
  },
  {
   "cell_type": "code",
   "execution_count": 58,
   "metadata": {},
   "outputs": [
    {
     "data": {
      "text/plain": [
       "array([False, False, False, ..., False, False, False])"
      ]
     },
     "execution_count": 58,
     "metadata": {},
     "output_type": "execute_result"
    }
   ],
   "source": [
    "#p = np.indices(arr.shape).reshape((arr.size,3))\n",
    "\n",
    "in_cylinder(p,a,b,r)"
   ]
  },
  {
   "attachments": {},
   "cell_type": "markdown",
   "metadata": {},
   "source": [
    "simplest way to generate the rasterized cylinders would be to open each annotation and writing out annotations in corresponding chunks, then we only have to do ~1900 iterations. and can just write out to appropriate chunks. can also read if the chunk already exists so we can write multiple annotations to same chunk"
   ]
  },
  {
   "cell_type": "code",
   "execution_count": 32,
   "metadata": {},
   "outputs": [
    {
     "ename": "KeyError",
     "evalue": "'blockSize'",
     "output_type": "error",
     "traceback": [
      "\u001b[0;31m---------------------------------------------------------------------------\u001b[0m",
      "\u001b[0;31mKeyError\u001b[0m                                  Traceback (most recent call last)",
      "Cell \u001b[0;32mIn[32], line 1\u001b[0m\n\u001b[0;32m----> 1\u001b[0m np\u001b[39m.\u001b[39marray(zarr_file[dataset]\u001b[39m.\u001b[39;49mattrs\u001b[39m.\u001b[39;49masdict()[\u001b[39m\"\u001b[39;49m\u001b[39mblockSize\u001b[39;49m\u001b[39m\"\u001b[39;49m])\n",
      "\u001b[0;31mKeyError\u001b[0m: 'blockSize'"
     ]
    }
   ],
   "source": [
    "np.array(zarr_file[dataset].attrs.asdict()[\"blockSize\"])"
   ]
  },
  {
   "cell_type": "code",
   "execution_count": 53,
   "metadata": {},
   "outputs": [
    {
     "data": {
      "text/plain": [
       "(11301, 6464, 32690)"
      ]
     },
     "execution_count": 53,
     "metadata": {},
     "output_type": "execute_result"
    }
   ],
   "source": [
    "zarr_file[dataset].shape"
   ]
  },
  {
   "cell_type": "code",
   "execution_count": 14,
   "metadata": {},
   "outputs": [
    {
     "data": {
      "text/plain": [
       "Text(0.5, 0, 'Volume (nm^3)')"
      ]
     },
     "execution_count": 14,
     "metadata": {},
     "output_type": "execute_result"
    },
    {
     "data": {
      "image/png": "[encoded data removed]",
      "text/plain": [
       "<Figure size 640x480 with 1 Axes>"
      ]
     },
     "metadata": {},
     "output_type": "display_data"
    }
   ],
   "source": [
    "import pandas as pd\n",
    "import matplotlib.pyplot as plt\n",
    "df = pd.read_csv(\"/nrs/cellmap/ackermand/cellmap/analysisResults/jrc_mus-liver-zon-1/nucleus.csv\")\n",
    "plt.hist(df[\"Volume (nm^3)\"],bins=100)\n",
    "plt.semilogy()\n",
    "plt.ylabel('Count')\n",
    "plt.xlabel('Volume (nm^3)')"
   ]
  },
  {
   "cell_type": "code",
   "execution_count": 16,
   "metadata": {},
   "outputs": [
    {
     "data": {
      "text/plain": [
       "4"
      ]
     },
     "execution_count": 16,
     "metadata": {},
     "output_type": "execute_result"
    }
   ],
   "source": [
    "import numpy as np\n",
    "np.sum(df[\"Volume (nm^3)\"]>0.25e13)"
   ]
  },
  {
   "cell_type": "code",
   "execution_count": 3,
   "metadata": {},
   "outputs": [
    {
     "name": "stdout",
     "output_type": "stream",
     "text": [
      "[1 2]\n",
      "uint64 uint64 uint64\n"
     ]
    }
   ],
   "source": [
    "import numpy_indexed as npi\n",
    "import numpy as np\n",
    "a=np.array([1,2],dtype=np.uint64)\n",
    "b=np.array([1,2],dtype=np.uint64)\n",
    "c=np.array([1,2],dtype=np.uint64)\n",
    "\n",
    "print(npi.remap(a,b,c))\n",
    "print(a.dtype,b.dtype,c.dtype)\n"
   ]
  },
  {
   "cell_type": "code",
   "execution_count": 5,
   "metadata": {},
   "outputs": [
    {
     "data": {
      "text/plain": [
       "array([[[[-1]]],\n",
       "\n",
       "\n",
       "       [[[-1]]],\n",
       "\n",
       "\n",
       "       [[[-1]]],\n",
       "\n",
       "\n",
       "       [[[ 1]]],\n",
       "\n",
       "\n",
       "       [[[ 1]]],\n",
       "\n",
       "\n",
       "       [[[ 1]]],\n",
       "\n",
       "\n",
       "       [[[ 1]]],\n",
       "\n",
       "\n",
       "       [[[ 1]]],\n",
       "\n",
       "\n",
       "       [[[ 1]]]])"
      ]
     },
     "execution_count": 5,
     "metadata": {},
     "output_type": "execute_result"
    }
   ],
   "source": [
    "import numpy as np\n",
    "adjacent_edge_bias = -1\n",
    "lr_edge_bias = 1\n",
    "offsets = [\n",
    "                (1, 0, 0),\n",
    "                (0, 1, 0),\n",
    "                (0, 0, 1),\n",
    "                (3, 0, 0),\n",
    "                (0, 3, 0),\n",
    "                (0, 0, 3),\n",
    "                (9, 0, 0),\n",
    "                (0, 9, 0),\n",
    "                (0, 0, 9),\n",
    "            ]\n",
    "shift = np.array(\n",
    "    [adjacent_edge_bias if max(offset) <= 1 else lr_edge_bias for offset in offsets]\n",
    ").reshape((-1, *((1,) * (len((3, 136, 136, 121)) - 1))))\n",
    "shift"
   ]
  },
  {
   "cell_type": "code",
   "execution_count": 2,
   "metadata": {},
   "outputs": [
    {
     "name": "stderr",
     "output_type": "stream",
     "text": [
      "WARNING:/groups/scicompsoft/home/ackermand/Programming/dacapo/dacapo/experiments/starts/start.py:Error(s) in loading state_dict for Model:\n",
      "\tMissing key(s) in state_dict: \"architecture.unet.l_conv.0.conv_pass.0.weight\", \"architecture.unet.l_conv.0.conv_pass.0.bias\", \"architecture.unet.l_conv.0.conv_pass.2.weight\", \"architecture.unet.l_conv.0.conv_pass.2.bias\", \"architecture.unet.l_conv.1.conv_pass.0.weight\", \"architecture.unet.l_conv.1.conv_pass.0.bias\", \"architecture.unet.l_conv.1.conv_pass.2.weight\", \"architecture.unet.l_conv.1.conv_pass.2.bias\", \"architecture.unet.l_conv.2.conv_pass.0.weight\", \"architecture.unet.l_conv.2.conv_pass.0.bias\", \"architecture.unet.l_conv.2.conv_pass.2.weight\", \"architecture.unet.l_conv.2.conv_pass.2.bias\", \"architecture.unet.l_conv.3.conv_pass.0.weight\", \"architecture.unet.l_conv.3.conv_pass.0.bias\", \"architecture.unet.l_conv.3.conv_pass.2.weight\", \"architecture.unet.l_conv.3.conv_pass.2.bias\", \"architecture.unet.r_up.0.0.up.1.weight\", \"architecture.unet.r_up.0.0.up.1.bias\", \"architecture.unet.r_up.0.1.up.1.weight\", \"architecture.unet.r_up.0.1.up.1.bias\", \"architecture.unet.r_up.0.2.up.1.weight\", \"architecture.unet.r_up.0.2.up.1.bias\", \"architecture.unet.r_conv.0.0.conv_pass.0.weight\", \"architecture.unet.r_conv.0.0.conv_pass.0.bias\", \"architecture.unet.r_conv.0.0.conv_pass.2.weight\", \"architecture.unet.r_conv.0.0.conv_pass.2.bias\", \"architecture.unet.r_conv.0.1.conv_pass.0.weight\", \"architecture.unet.r_conv.0.1.conv_pass.0.bias\", \"architecture.unet.r_conv.0.1.conv_pass.2.weight\", \"architecture.unet.r_conv.0.1.conv_pass.2.bias\", \"architecture.unet.r_conv.0.2.conv_pass.0.weight\", \"architecture.unet.r_conv.0.2.conv_pass.0.bias\", \"architecture.unet.r_conv.0.2.conv_pass.2.weight\", \"architecture.unet.r_conv.0.2.conv_pass.2.bias\", \"chain.0.unet.l_conv.0.conv_pass.0.weight\", \"chain.0.unet.l_conv.0.conv_pass.0.bias\", \"chain.0.unet.l_conv.0.conv_pass.2.weight\", \"chain.0.unet.l_conv.0.conv_pass.2.bias\", \"chain.0.unet.l_conv.1.conv_pass.0.weight\", \"chain.0.unet.l_conv.1.conv_pass.0.bias\", \"chain.0.unet.l_conv.1.conv_pass.2.weight\", \"chain.0.unet.l_conv.1.conv_pass.2.bias\", \"chain.0.unet.l_conv.2.conv_pass.0.weight\", \"chain.0.unet.l_conv.2.conv_pass.0.bias\", \"chain.0.unet.l_conv.2.conv_pass.2.weight\", \"chain.0.unet.l_conv.2.conv_pass.2.bias\", \"chain.0.unet.l_conv.3.conv_pass.0.weight\", \"chain.0.unet.l_conv.3.conv_pass.0.bias\", \"chain.0.unet.l_conv.3.conv_pass.2.weight\", \"chain.0.unet.l_conv.3.conv_pass.2.bias\", \"chain.0.unet.r_up.0.0.up.1.weight\", \"chain.0.unet.r_up.0.0.up.1.bias\", \"chain.0.unet.r_up.0.1.up.1.weight\", \"chain.0.unet.r_up.0.1.up.1.bias\", \"chain.0.unet.r_up.0.2.up.1.weight\", \"chain.0.unet.r_up.0.2.up.1.bias\", \"chain.0.unet.r_conv.0.0.conv_pass.0.weight\", \"chain.0.unet.r_conv.0.0.conv_pass.0.bias\", \"chain.0.unet.r_conv.0.0.conv_pass.2.weight\", \"chain.0.unet.r_conv.0.0.conv_pass.2.bias\", \"chain.0.unet.r_conv.0.1.conv_pass.0.weight\", \"chain.0.unet.r_conv.0.1.conv_pass.0.bias\", \"chain.0.unet.r_conv.0.1.conv_pass.2.weight\", \"chain.0.unet.r_conv.0.1.conv_pass.2.bias\", \"chain.0.unet.r_conv.0.2.conv_pass.0.weight\", \"chain.0.unet.r_conv.0.2.conv_pass.0.bias\", \"chain.0.unet.r_conv.0.2.conv_pass.2.weight\", \"chain.0.unet.r_conv.0.2.conv_pass.2.bias\". \n",
      "\tUnexpected key(s) in state_dict: \"architecture.unet.0.l_conv.0.conv_pass.0.weight\", \"architecture.unet.0.l_conv.0.conv_pass.0.bias\", \"architecture.unet.0.l_conv.0.conv_pass.2.weight\", \"architecture.unet.0.l_conv.0.conv_pass.2.bias\", \"architecture.unet.0.l_conv.1.conv_pass.0.weight\", \"architecture.unet.0.l_conv.1.conv_pass.0.bias\", \"architecture.unet.0.l_conv.1.conv_pass.2.weight\", \"architecture.unet.0.l_conv.1.conv_pass.2.bias\", \"architecture.unet.0.l_conv.2.conv_pass.0.weight\", \"architecture.unet.0.l_conv.2.conv_pass.0.bias\", \"architecture.unet.0.l_conv.2.conv_pass.2.weight\", \"architecture.unet.0.l_conv.2.conv_pass.2.bias\", \"architecture.unet.0.l_conv.3.conv_pass.0.weight\", \"architecture.unet.0.l_conv.3.conv_pass.0.bias\", \"architecture.unet.0.l_conv.3.conv_pass.2.weight\", \"architecture.unet.0.l_conv.3.conv_pass.2.bias\", \"architecture.unet.0.r_up.0.0.up.1.weight\", \"architecture.unet.0.r_up.0.0.up.1.bias\", \"architecture.unet.0.r_up.0.1.up.1.weight\", \"architecture.unet.0.r_up.0.1.up.1.bias\", \"architecture.unet.0.r_up.0.2.up.1.weight\", \"architecture.unet.0.r_up.0.2.up.1.bias\", \"architecture.unet.0.r_conv.0.0.conv_pass.0.weight\", \"architecture.unet.0.r_conv.0.0.conv_pass.0.bias\", \"architecture.unet.0.r_conv.0.0.conv_pass.2.weight\", \"architecture.unet.0.r_conv.0.0.conv_pass.2.bias\", \"architecture.unet.0.r_conv.0.1.conv_pass.0.weight\", \"architecture.unet.0.r_conv.0.1.conv_pass.0.bias\", \"architecture.unet.0.r_conv.0.1.conv_pass.2.weight\", \"architecture.unet.0.r_conv.0.1.conv_pass.2.bias\", \"architecture.unet.0.r_conv.0.2.conv_pass.0.weight\", \"architecture.unet.0.r_conv.0.2.conv_pass.0.bias\", \"architecture.unet.0.r_conv.0.2.conv_pass.2.weight\", \"architecture.unet.0.r_conv.0.2.conv_pass.2.bias\", \"architecture.unet.1.up.1.weight\", \"architecture.unet.1.up.1.bias\", \"architecture.unet.2.conv_pass.0.weight\", \"architecture.unet.2.conv_pass.0.bias\", \"architecture.unet.2.conv_pass.2.weight\", \"architecture.unet.2.conv_pass.2.bias\", \"chain.0.unet.0.l_conv.0.conv_pass.0.weight\", \"chain.0.unet.0.l_conv.0.conv_pass.0.bias\", \"chain.0.unet.0.l_conv.0.conv_pass.2.weight\", \"chain.0.unet.0.l_conv.0.conv_pass.2.bias\", \"chain.0.unet.0.l_conv.1.conv_pass.0.weight\", \"chain.0.unet.0.l_conv.1.conv_pass.0.bias\", \"chain.0.unet.0.l_conv.1.conv_pass.2.weight\", \"chain.0.unet.0.l_conv.1.conv_pass.2.bias\", \"chain.0.unet.0.l_conv.2.conv_pass.0.weight\", \"chain.0.unet.0.l_conv.2.conv_pass.0.bias\", \"chain.0.unet.0.l_conv.2.conv_pass.2.weight\", \"chain.0.unet.0.l_conv.2.conv_pass.2.bias\", \"chain.0.unet.0.l_conv.3.conv_pass.0.weight\", \"chain.0.unet.0.l_conv.3.conv_pass.0.bias\", \"chain.0.unet.0.l_conv.3.conv_pass.2.weight\", \"chain.0.unet.0.l_conv.3.conv_pass.2.bias\", \"chain.0.unet.0.r_up.0.0.up.1.weight\", \"chain.0.unet.0.r_up.0.0.up.1.bias\", \"chain.0.unet.0.r_up.0.1.up.1.weight\", \"chain.0.unet.0.r_up.0.1.up.1.bias\", \"chain.0.unet.0.r_up.0.2.up.1.weight\", \"chain.0.unet.0.r_up.0.2.up.1.bias\", \"chain.0.unet.0.r_conv.0.0.conv_pass.0.weight\", \"chain.0.unet.0.r_conv.0.0.conv_pass.0.bias\", \"chain.0.unet.0.r_conv.0.0.conv_pass.2.weight\", \"chain.0.unet.0.r_conv.0.0.conv_pass.2.bias\", \"chain.0.unet.0.r_conv.0.1.conv_pass.0.weight\", \"chain.0.unet.0.r_conv.0.1.conv_pass.0.bias\", \"chain.0.unet.0.r_conv.0.1.conv_pass.2.weight\", \"chain.0.unet.0.r_conv.0.1.conv_pass.2.bias\", \"chain.0.unet.0.r_conv.0.2.conv_pass.0.weight\", \"chain.0.unet.0.r_conv.0.2.conv_pass.0.bias\", \"chain.0.unet.0.r_conv.0.2.conv_pass.2.weight\", \"chain.0.unet.0.r_conv.0.2.conv_pass.2.bias\", \"chain.0.unet.1.up.1.weight\", \"chain.0.unet.1.up.1.bias\", \"chain.0.unet.2.conv_pass.0.weight\", \"chain.0.unet.2.conv_pass.0.bias\", \"chain.0.unet.2.conv_pass.2.weight\", \"chain.0.unet.2.conv_pass.2.bias\". \n",
      "\tsize mismatch for prediction_head.weight: copying a param with shape torch.Size([14, 72, 1, 1, 1]) from checkpoint, the shape in current model is torch.Size([19, 72, 1, 1, 1]).\n",
      "\tsize mismatch for prediction_head.bias: copying a param with shape torch.Size([14]) from checkpoint, the shape in current model is torch.Size([19]).\n",
      "\tsize mismatch for chain.1.weight: copying a param with shape torch.Size([14, 72, 1, 1, 1]) from checkpoint, the shape in current model is torch.Size([19, 72, 1, 1, 1]).\n",
      "\tsize mismatch for chain.1.bias: copying a param with shape torch.Size([14]) from checkpoint, the shape in current model is torch.Size([19]).\n"
     ]
    },
    {
     "ename": "Exception",
     "evalue": "Predicting with input size (2304, 2304, 2304), output size (864, 864, 864), gt_padding (128, 128, 192)",
     "output_type": "error",
     "traceback": [
      "\u001b[0;31m---------------------------------------------------------------------------\u001b[0m",
      "\u001b[0;31mException\u001b[0m                                 Traceback (most recent call last)",
      "Cell \u001b[0;32mIn[2], line 47\u001b[0m\n\u001b[1;32m     45\u001b[0m output_size \u001b[39m=\u001b[39m output_voxel_size \u001b[39m*\u001b[39m model\u001b[39m.\u001b[39mcompute_output_shape(input_shape)[\u001b[39m1\u001b[39m]\n\u001b[1;32m     46\u001b[0m gt_padding \u001b[39m=\u001b[39m (output_size \u001b[39m-\u001b[39m validation_dataset\u001b[39m.\u001b[39mgt\u001b[39m.\u001b[39mroi\u001b[39m.\u001b[39mshape) \u001b[39m%\u001b[39m output_size\n\u001b[0;32m---> 47\u001b[0m \u001b[39mraise\u001b[39;00m \u001b[39mException\u001b[39;00m(\u001b[39mf\u001b[39m\u001b[39m\"\u001b[39m\u001b[39mPredicting with input size \u001b[39m\u001b[39m{\u001b[39;00minput_size\u001b[39m}\u001b[39;00m\u001b[39m, output size \u001b[39m\u001b[39m{\u001b[39;00moutput_size\u001b[39m}\u001b[39;00m\u001b[39m, gt_padding \u001b[39m\u001b[39m{\u001b[39;00mgt_padding\u001b[39m}\u001b[39;00m\u001b[39m\"\u001b[39m)\n\u001b[1;32m     48\u001b[0m \u001b[39m# calculate input and output rois\u001b[39;00m\n\u001b[1;32m     50\u001b[0m context \u001b[39m=\u001b[39m (input_size \u001b[39m-\u001b[39m output_size) \u001b[39m/\u001b[39m \u001b[39m2\u001b[39m\n",
      "\u001b[0;31mException\u001b[0m: Predicting with input size (2304, 2304, 2304), output size (864, 864, 864), gt_padding (128, 128, 192)"
     ]
    }
   ],
   "source": [
    "from dacapo.store.create_store import create_config_store,create_config_store,create_weights_store\n",
    "from dacapo.experiments import Run\n",
    "\n",
    "import daisy\n",
    "from funlib.persistence import open_ds, prepare_ds\n",
    "from funlib.geometry import Coordinate,Roi\n",
    "\n",
    "import click\n",
    "import numpy as np\n",
    "\n",
    "import subprocess\n",
    "import logging\n",
    "from dacapo.predict import predict\n",
    "from dacapo.store.local_array_store import LocalArrayIdentifier\n",
    "from dacapo.compute_context import LocalTorch\n",
    "from pathlib import Path\n",
    "import torch\n",
    "from dacapo.experiments.datasplits.datasets.arrays import ZarrArray\n",
    "from dacapo.experiments.tasks.post_processors.watershed_post_processor_parameters import WatershedPostProcessorParameters\n",
    "\n",
    "\n",
    "run_name = \"finetuned_3d_lsdaffs_nuclearpores_upsample-unet_default_v2__0\"\n",
    "config_store = create_config_store()\n",
    "run_config = config_store.retrieve_run_config(run_name)\n",
    "\n",
    "config_store = create_config_store()\n",
    "run_config = config_store.retrieve_run_config(run_name)\n",
    "run = Run(run_config)\n",
    "\n",
    "# create weights store and read weights\n",
    "weights_store = create_weights_store()\n",
    "weights = weights_store.retrieve_weights(run, 165000)\n",
    "weights_store._load_best(run, \"val/voi\")\n",
    "#run.model.load_state_dict(weights.model)\n",
    "\n",
    "for validation_dataset in run.datasplit.validate:\n",
    "    output_roi = validation_dataset.gt.roi\n",
    "    model = run.model\n",
    "    raw_array = validation_dataset.raw\n",
    "\n",
    "    input_voxel_size = Coordinate(raw_array.voxel_size)\n",
    "    output_voxel_size = model.scale(input_voxel_size)\n",
    "    input_shape = Coordinate(model.eval_input_shape)\n",
    "    input_size = input_voxel_size * input_shape\n",
    "    output_size = output_voxel_size * model.compute_output_shape(input_shape)[1]\n",
    "    gt_padding = (output_size - validation_dataset.gt.roi.shape) % output_size\n",
    "    raise Exception(f\"Predicting with input size {input_size}, output size {output_size}, gt_padding {gt_padding}\")\n",
    "    # calculate input and output rois\n",
    "\n",
    "    context = (input_size - output_size) / 2\n",
    "    if output_roi is None:\n",
    "        input_roi = raw_array.roi\n",
    "        output_roi = input_roi.grow(-context, -context)\n",
    "    else:\n",
    "        input_roi = output_roi.grow(context, context)\n",
    "    torch.backends.cudnn.benchmark = True\n",
    "    run.model.eval()\n",
    "    prediction_array_identifier = LocalArrayIdentifier(Path(\"/groups/cellmap/cellmap/ackermand/Programming/nuclearpores_dacapo/temp.n5\"), \"pred_original_outputsize\")\n",
    "    predict(\n",
    "            run.model,\n",
    "            validation_dataset.raw,\n",
    "            prediction_array_identifier,\n",
    "            compute_context=LocalTorch(),\n",
    "            output_roi=validation_dataset.gt.roi,#Roi((42400,16000,219200),(108*8,108*8,108*8)),#\n",
    "        )\n",
    "\n",
    "    # post_processor = run.task.post_processor\n",
    "    # post_processor.set_prediction(prediction_array_identifier)\n",
    "\n",
    "\n",
    "    # output_array_identifier = LocalArrayIdentifier(Path(\"/groups/cellmap/cellmap/ackermand/Programming/nuclearpores_dacapo/temp.n5\"), \"output\")\n",
    "    \n",
    "    # prediction_array = ZarrArray.open_from_array_identifier(\n",
    "    #         prediction_array_identifier\n",
    "    #     )\n",
    "    # output_array = ZarrArray.create_from_array_identifier(\n",
    "    #         output_array_identifier,\n",
    "    #         [axis for axis in prediction_array.axes if axis != \"c\"],\n",
    "    #         prediction_array.roi,\n",
    "    #         None,\n",
    "    #         prediction_array.voxel_size,\n",
    "    #         np.uint64,\n",
    "    # )\n",
    "    # post_processed_array = post_processor.process(\n",
    "    #                  WatershedPostProcessorParameters(id=2, bias=0.5), output_array_identifier\n",
    "    #             )"
   ]
  },
  {
   "cell_type": "code",
   "execution_count": 1,
   "metadata": {},
   "outputs": [
    {
     "name": "stderr",
     "output_type": "stream",
     "text": [
      "/groups/scicompsoft/home/ackermand/miniconda3/envs/cellmap_experiments/lib/python3.10/site-packages/tqdm/auto.py:21: TqdmWarning: IProgress not found. Please update jupyter and ipywidgets. See https://ipywidgets.readthedocs.io/en/stable/user_install.html\n",
      "  from .autonotebook import tqdm as notebook_tqdm\n",
      "WARNING:/groups/scicompsoft/home/ackermand/Programming/dacapo/dacapo/experiments/starts/start.py:Error(s) in loading state_dict for Model:\n",
      "\tMissing key(s) in state_dict: \"architecture.unet.l_conv.0.conv_pass.0.weight\", \"architecture.unet.l_conv.0.conv_pass.0.bias\", \"architecture.unet.l_conv.0.conv_pass.2.weight\", \"architecture.unet.l_conv.0.conv_pass.2.bias\", \"architecture.unet.l_conv.1.conv_pass.0.weight\", \"architecture.unet.l_conv.1.conv_pass.0.bias\", \"architecture.unet.l_conv.1.conv_pass.2.weight\", \"architecture.unet.l_conv.1.conv_pass.2.bias\", \"architecture.unet.l_conv.2.conv_pass.0.weight\", \"architecture.unet.l_conv.2.conv_pass.0.bias\", \"architecture.unet.l_conv.2.conv_pass.2.weight\", \"architecture.unet.l_conv.2.conv_pass.2.bias\", \"architecture.unet.l_conv.3.conv_pass.0.weight\", \"architecture.unet.l_conv.3.conv_pass.0.bias\", \"architecture.unet.l_conv.3.conv_pass.2.weight\", \"architecture.unet.l_conv.3.conv_pass.2.bias\", \"architecture.unet.r_up.0.0.up.1.weight\", \"architecture.unet.r_up.0.0.up.1.bias\", \"architecture.unet.r_up.0.1.up.1.weight\", \"architecture.unet.r_up.0.1.up.1.bias\", \"architecture.unet.r_up.0.2.up.1.weight\", \"architecture.unet.r_up.0.2.up.1.bias\", \"architecture.unet.r_conv.0.0.conv_pass.0.weight\", \"architecture.unet.r_conv.0.0.conv_pass.0.bias\", \"architecture.unet.r_conv.0.0.conv_pass.2.weight\", \"architecture.unet.r_conv.0.0.conv_pass.2.bias\", \"architecture.unet.r_conv.0.1.conv_pass.0.weight\", \"architecture.unet.r_conv.0.1.conv_pass.0.bias\", \"architecture.unet.r_conv.0.1.conv_pass.2.weight\", \"architecture.unet.r_conv.0.1.conv_pass.2.bias\", \"architecture.unet.r_conv.0.2.conv_pass.0.weight\", \"architecture.unet.r_conv.0.2.conv_pass.0.bias\", \"architecture.unet.r_conv.0.2.conv_pass.2.weight\", \"architecture.unet.r_conv.0.2.conv_pass.2.bias\", \"chain.0.unet.l_conv.0.conv_pass.0.weight\", \"chain.0.unet.l_conv.0.conv_pass.0.bias\", \"chain.0.unet.l_conv.0.conv_pass.2.weight\", \"chain.0.unet.l_conv.0.conv_pass.2.bias\", \"chain.0.unet.l_conv.1.conv_pass.0.weight\", \"chain.0.unet.l_conv.1.conv_pass.0.bias\", \"chain.0.unet.l_conv.1.conv_pass.2.weight\", \"chain.0.unet.l_conv.1.conv_pass.2.bias\", \"chain.0.unet.l_conv.2.conv_pass.0.weight\", \"chain.0.unet.l_conv.2.conv_pass.0.bias\", \"chain.0.unet.l_conv.2.conv_pass.2.weight\", \"chain.0.unet.l_conv.2.conv_pass.2.bias\", \"chain.0.unet.l_conv.3.conv_pass.0.weight\", \"chain.0.unet.l_conv.3.conv_pass.0.bias\", \"chain.0.unet.l_conv.3.conv_pass.2.weight\", \"chain.0.unet.l_conv.3.conv_pass.2.bias\", \"chain.0.unet.r_up.0.0.up.1.weight\", \"chain.0.unet.r_up.0.0.up.1.bias\", \"chain.0.unet.r_up.0.1.up.1.weight\", \"chain.0.unet.r_up.0.1.up.1.bias\", \"chain.0.unet.r_up.0.2.up.1.weight\", \"chain.0.unet.r_up.0.2.up.1.bias\", \"chain.0.unet.r_conv.0.0.conv_pass.0.weight\", \"chain.0.unet.r_conv.0.0.conv_pass.0.bias\", \"chain.0.unet.r_conv.0.0.conv_pass.2.weight\", \"chain.0.unet.r_conv.0.0.conv_pass.2.bias\", \"chain.0.unet.r_conv.0.1.conv_pass.0.weight\", \"chain.0.unet.r_conv.0.1.conv_pass.0.bias\", \"chain.0.unet.r_conv.0.1.conv_pass.2.weight\", \"chain.0.unet.r_conv.0.1.conv_pass.2.bias\", \"chain.0.unet.r_conv.0.2.conv_pass.0.weight\", \"chain.0.unet.r_conv.0.2.conv_pass.0.bias\", \"chain.0.unet.r_conv.0.2.conv_pass.2.weight\", \"chain.0.unet.r_conv.0.2.conv_pass.2.bias\". \n",
      "\tUnexpected key(s) in state_dict: \"architecture.unet.0.l_conv.0.conv_pass.0.weight\", \"architecture.unet.0.l_conv.0.conv_pass.0.bias\", \"architecture.unet.0.l_conv.0.conv_pass.2.weight\", \"architecture.unet.0.l_conv.0.conv_pass.2.bias\", \"architecture.unet.0.l_conv.1.conv_pass.0.weight\", \"architecture.unet.0.l_conv.1.conv_pass.0.bias\", \"architecture.unet.0.l_conv.1.conv_pass.2.weight\", \"architecture.unet.0.l_conv.1.conv_pass.2.bias\", \"architecture.unet.0.l_conv.2.conv_pass.0.weight\", \"architecture.unet.0.l_conv.2.conv_pass.0.bias\", \"architecture.unet.0.l_conv.2.conv_pass.2.weight\", \"architecture.unet.0.l_conv.2.conv_pass.2.bias\", \"architecture.unet.0.l_conv.3.conv_pass.0.weight\", \"architecture.unet.0.l_conv.3.conv_pass.0.bias\", \"architecture.unet.0.l_conv.3.conv_pass.2.weight\", \"architecture.unet.0.l_conv.3.conv_pass.2.bias\", \"architecture.unet.0.r_up.0.0.up.1.weight\", \"architecture.unet.0.r_up.0.0.up.1.bias\", \"architecture.unet.0.r_up.0.1.up.1.weight\", \"architecture.unet.0.r_up.0.1.up.1.bias\", \"architecture.unet.0.r_up.0.2.up.1.weight\", \"architecture.unet.0.r_up.0.2.up.1.bias\", \"architecture.unet.0.r_conv.0.0.conv_pass.0.weight\", \"architecture.unet.0.r_conv.0.0.conv_pass.0.bias\", \"architecture.unet.0.r_conv.0.0.conv_pass.2.weight\", \"architecture.unet.0.r_conv.0.0.conv_pass.2.bias\", \"architecture.unet.0.r_conv.0.1.conv_pass.0.weight\", \"architecture.unet.0.r_conv.0.1.conv_pass.0.bias\", \"architecture.unet.0.r_conv.0.1.conv_pass.2.weight\", \"architecture.unet.0.r_conv.0.1.conv_pass.2.bias\", \"architecture.unet.0.r_conv.0.2.conv_pass.0.weight\", \"architecture.unet.0.r_conv.0.2.conv_pass.0.bias\", \"architecture.unet.0.r_conv.0.2.conv_pass.2.weight\", \"architecture.unet.0.r_conv.0.2.conv_pass.2.bias\", \"architecture.unet.1.up.1.weight\", \"architecture.unet.1.up.1.bias\", \"architecture.unet.2.conv_pass.0.weight\", \"architecture.unet.2.conv_pass.0.bias\", \"architecture.unet.2.conv_pass.2.weight\", \"architecture.unet.2.conv_pass.2.bias\", \"chain.0.unet.0.l_conv.0.conv_pass.0.weight\", \"chain.0.unet.0.l_conv.0.conv_pass.0.bias\", \"chain.0.unet.0.l_conv.0.conv_pass.2.weight\", \"chain.0.unet.0.l_conv.0.conv_pass.2.bias\", \"chain.0.unet.0.l_conv.1.conv_pass.0.weight\", \"chain.0.unet.0.l_conv.1.conv_pass.0.bias\", \"chain.0.unet.0.l_conv.1.conv_pass.2.weight\", \"chain.0.unet.0.l_conv.1.conv_pass.2.bias\", \"chain.0.unet.0.l_conv.2.conv_pass.0.weight\", \"chain.0.unet.0.l_conv.2.conv_pass.0.bias\", \"chain.0.unet.0.l_conv.2.conv_pass.2.weight\", \"chain.0.unet.0.l_conv.2.conv_pass.2.bias\", \"chain.0.unet.0.l_conv.3.conv_pass.0.weight\", \"chain.0.unet.0.l_conv.3.conv_pass.0.bias\", \"chain.0.unet.0.l_conv.3.conv_pass.2.weight\", \"chain.0.unet.0.l_conv.3.conv_pass.2.bias\", \"chain.0.unet.0.r_up.0.0.up.1.weight\", \"chain.0.unet.0.r_up.0.0.up.1.bias\", \"chain.0.unet.0.r_up.0.1.up.1.weight\", \"chain.0.unet.0.r_up.0.1.up.1.bias\", \"chain.0.unet.0.r_up.0.2.up.1.weight\", \"chain.0.unet.0.r_up.0.2.up.1.bias\", \"chain.0.unet.0.r_conv.0.0.conv_pass.0.weight\", \"chain.0.unet.0.r_conv.0.0.conv_pass.0.bias\", \"chain.0.unet.0.r_conv.0.0.conv_pass.2.weight\", \"chain.0.unet.0.r_conv.0.0.conv_pass.2.bias\", \"chain.0.unet.0.r_conv.0.1.conv_pass.0.weight\", \"chain.0.unet.0.r_conv.0.1.conv_pass.0.bias\", \"chain.0.unet.0.r_conv.0.1.conv_pass.2.weight\", \"chain.0.unet.0.r_conv.0.1.conv_pass.2.bias\", \"chain.0.unet.0.r_conv.0.2.conv_pass.0.weight\", \"chain.0.unet.0.r_conv.0.2.conv_pass.0.bias\", \"chain.0.unet.0.r_conv.0.2.conv_pass.2.weight\", \"chain.0.unet.0.r_conv.0.2.conv_pass.2.bias\", \"chain.0.unet.1.up.1.weight\", \"chain.0.unet.1.up.1.bias\", \"chain.0.unet.2.conv_pass.0.weight\", \"chain.0.unet.2.conv_pass.0.bias\", \"chain.0.unet.2.conv_pass.2.weight\", \"chain.0.unet.2.conv_pass.2.bias\". \n",
      "\tsize mismatch for prediction_head.weight: copying a param with shape torch.Size([14, 72, 1, 1, 1]) from checkpoint, the shape in current model is torch.Size([19, 72, 1, 1, 1]).\n",
      "\tsize mismatch for prediction_head.bias: copying a param with shape torch.Size([14]) from checkpoint, the shape in current model is torch.Size([19]).\n",
      "\tsize mismatch for chain.1.weight: copying a param with shape torch.Size([14, 72, 1, 1, 1]) from checkpoint, the shape in current model is torch.Size([19, 72, 1, 1, 1]).\n",
      "\tsize mismatch for chain.1.bias: copying a param with shape torch.Size([14]) from checkpoint, the shape in current model is torch.Size([19]).\n"
     ]
    },
    {
     "ename": "Exception",
     "evalue": "Predicting with input size (2304, 2304, 2304), output size (864, 864, 864), gt_padding (128, 128, 192)",
     "output_type": "error",
     "traceback": [
      "\u001b[0;31m---------------------------------------------------------------------------\u001b[0m",
      "\u001b[0;31mException\u001b[0m                                 Traceback (most recent call last)",
      "Cell \u001b[0;32mIn[1], line 48\u001b[0m\n\u001b[1;32m     46\u001b[0m output_size \u001b[39m=\u001b[39m output_voxel_size \u001b[39m*\u001b[39m model\u001b[39m.\u001b[39mcompute_output_shape(input_shape)[\u001b[39m1\u001b[39m]\n\u001b[1;32m     47\u001b[0m gt_padding \u001b[39m=\u001b[39m (output_size \u001b[39m-\u001b[39m validation_dataset\u001b[39m.\u001b[39mgt\u001b[39m.\u001b[39mroi\u001b[39m.\u001b[39mshape) \u001b[39m%\u001b[39m output_size\n\u001b[0;32m---> 48\u001b[0m \u001b[39mraise\u001b[39;00m \u001b[39mException\u001b[39;00m(\u001b[39mf\u001b[39m\u001b[39m\"\u001b[39m\u001b[39mPredicting with input size \u001b[39m\u001b[39m{\u001b[39;00minput_size\u001b[39m}\u001b[39;00m\u001b[39m, output size \u001b[39m\u001b[39m{\u001b[39;00moutput_size\u001b[39m}\u001b[39;00m\u001b[39m, gt_padding \u001b[39m\u001b[39m{\u001b[39;00mgt_padding\u001b[39m}\u001b[39;00m\u001b[39m\"\u001b[39m)\n\u001b[1;32m     49\u001b[0m \u001b[39m# calculate input and output rois\u001b[39;00m\n\u001b[1;32m     51\u001b[0m context \u001b[39m=\u001b[39m (input_size \u001b[39m-\u001b[39m output_size) \u001b[39m/\u001b[39m \u001b[39m2\u001b[39m\n",
      "\u001b[0;31mException\u001b[0m: Predicting with input size (2304, 2304, 2304), output size (864, 864, 864), gt_padding (128, 128, 192)"
     ]
    }
   ],
   "source": [
    "# for jan\n",
    "from dacapo.store.create_store import create_config_store,create_config_store,create_weights_store\n",
    "from dacapo.experiments import Run\n",
    "\n",
    "import daisy\n",
    "from funlib.persistence import open_ds, prepare_ds\n",
    "from funlib.geometry import Coordinate,Roi\n",
    "import numpy as np\n",
    "\n",
    "from dacapo.predict import predict\n",
    "from dacapo.store.local_array_store import LocalArrayIdentifier\n",
    "from dacapo.compute_context import LocalTorch\n",
    "from pathlib import Path\n",
    "import torch\n",
    "from dacapo.experiments.tasks.post_processors.watershed_post_processor_parameters import WatershedPostProcessorParameters\n",
    "\n",
    "\n",
    "run_name = \"finetuned_3d_lsdaffs_nuclearpores_upsample-unet_default_v2__0\"\n",
    "config_store = create_config_store()\n",
    "run_config = config_store.retrieve_run_config(run_name)\n",
    "\n",
    "config_store = create_config_store()\n",
    "run_config = config_store.retrieve_run_config(run_name)\n",
    "run = Run(run_config)\n",
    "\n",
    "# create weights store and read weights\n",
    "weights_store = create_weights_store()\n",
    "weights = weights_store.retrieve_weights(run, 165000)\n",
    "weights_store._load_best(run, \"val/voi\")\n",
    "\n",
    "for validation_dataset in run.datasplit.validate:\n",
    "    torch.backends.cudnn.benchmark = True\n",
    "    run.model.eval()\n",
    "    prediction_array_identifier = LocalArrayIdentifier(Path(\"/groups/cellmap/cellmap/ackermand/Programming/nuclearpores_dacapo/temp.n5\"), \"pred_original_outputsize\")\n",
    "    predict(\n",
    "            run.model,\n",
    "            validation_dataset.raw,\n",
    "            prediction_array_identifier,\n",
    "            compute_context=LocalTorch(),\n",
    "            output_roi=validation_dataset.gt.roi,#Roi((42400,16000,219200),(108*8,108*8,108*8)),#\n",
    "        )"
   ]
  },
  {
   "cell_type": "code",
   "execution_count": 3,
   "metadata": {},
   "outputs": [],
   "source": [
    "from funlib.geometry import Coordinate, Roi\n",
    "val_input = validation_dataset.raw.__getitem__(input_roi)\n",
    "\n",
    "raw_dataset = open_ds(\"/nrs/cellmap/data/jrc_22ak351-leaf-3m/jrc_22ak351-leaf-3m.n5\", \"em/fibsem-uint8/s0\")\n",
    "shift = 0\n",
    "scale = 255\n",
    "raw_input = (\n",
    "                    raw_dataset.to_ndarray(\n",
    "                        roi=input_roi, fill_value=shift + scale\n",
    "                    ).astype(np.float32)\n",
    "                    - shift\n",
    "                ) / scale\n",
    "raw_input = np.expand_dims(raw_input, (0, 1))\n"
   ]
  },
  {
   "cell_type": "code",
   "execution_count": 5,
   "metadata": {},
   "outputs": [
    {
     "ename": "RuntimeError",
     "evalue": "Can not downsample shape torch.Size([1, 72, 184, 184, 234]) with factor (3, 3, 3), mismatch in spatial dimension 1",
     "output_type": "error",
     "traceback": [
      "\u001b[0;31m---------------------------------------------------------------------------\u001b[0m",
      "\u001b[0;31mRuntimeError\u001b[0m                              Traceback (most recent call last)",
      "Cell \u001b[0;32mIn[5], line 2\u001b[0m\n\u001b[1;32m      1\u001b[0m model \u001b[39m=\u001b[39m run\u001b[39m.\u001b[39mmodel\u001b[39m.\u001b[39mto(torch\u001b[39m.\u001b[39mdevice(\u001b[39m\"\u001b[39m\u001b[39mcpu\u001b[39m\u001b[39m\"\u001b[39m))\n\u001b[0;32m----> 2\u001b[0m predictions \u001b[39m=\u001b[39m model\u001b[39m.\u001b[39;49mforward(torch\u001b[39m.\u001b[39;49mfrom_numpy(raw_input)\u001b[39m.\u001b[39;49mfloat()\u001b[39m.\u001b[39;49mto( torch\u001b[39m.\u001b[39;49mdevice(\u001b[39m\"\u001b[39;49m\u001b[39mcpu\u001b[39;49m\u001b[39m\"\u001b[39;49m)))\u001b[39m.\u001b[39mdetach()\u001b[39m.\u001b[39mcpu()\u001b[39m.\u001b[39mnumpy()[\u001b[39m0\u001b[39m],\n",
      "File \u001b[0;32m~/Programming/dacapo/dacapo/experiments/model.py:44\u001b[0m, in \u001b[0;36mModel.forward\u001b[0;34m(self, x)\u001b[0m\n\u001b[1;32m     43\u001b[0m \u001b[39mdef\u001b[39;00m \u001b[39mforward\u001b[39m(\u001b[39mself\u001b[39m, x):\n\u001b[0;32m---> 44\u001b[0m     result \u001b[39m=\u001b[39m \u001b[39mself\u001b[39;49m\u001b[39m.\u001b[39;49mchain(x)\n\u001b[1;32m     45\u001b[0m     \u001b[39mif\u001b[39;00m \u001b[39mnot\u001b[39;00m \u001b[39mself\u001b[39m\u001b[39m.\u001b[39mtraining \u001b[39mand\u001b[39;00m \u001b[39mself\u001b[39m\u001b[39m.\u001b[39meval_activation \u001b[39mis\u001b[39;00m \u001b[39mnot\u001b[39;00m \u001b[39mNone\u001b[39;00m:\n\u001b[1;32m     46\u001b[0m         result \u001b[39m=\u001b[39m \u001b[39mself\u001b[39m\u001b[39m.\u001b[39meval_activation(result)\n",
      "File \u001b[0;32m~/miniconda3/envs/cellmap_experiments/lib/python3.10/site-packages/torch/nn/modules/module.py:1194\u001b[0m, in \u001b[0;36mModule._call_impl\u001b[0;34m(self, *input, **kwargs)\u001b[0m\n\u001b[1;32m   1190\u001b[0m \u001b[39m# If we don't have any hooks, we want to skip the rest of the logic in\u001b[39;00m\n\u001b[1;32m   1191\u001b[0m \u001b[39m# this function, and just call forward.\u001b[39;00m\n\u001b[1;32m   1192\u001b[0m \u001b[39mif\u001b[39;00m \u001b[39mnot\u001b[39;00m (\u001b[39mself\u001b[39m\u001b[39m.\u001b[39m_backward_hooks \u001b[39mor\u001b[39;00m \u001b[39mself\u001b[39m\u001b[39m.\u001b[39m_forward_hooks \u001b[39mor\u001b[39;00m \u001b[39mself\u001b[39m\u001b[39m.\u001b[39m_forward_pre_hooks \u001b[39mor\u001b[39;00m _global_backward_hooks\n\u001b[1;32m   1193\u001b[0m         \u001b[39mor\u001b[39;00m _global_forward_hooks \u001b[39mor\u001b[39;00m _global_forward_pre_hooks):\n\u001b[0;32m-> 1194\u001b[0m     \u001b[39mreturn\u001b[39;00m forward_call(\u001b[39m*\u001b[39;49m\u001b[39minput\u001b[39;49m, \u001b[39m*\u001b[39;49m\u001b[39m*\u001b[39;49mkwargs)\n\u001b[1;32m   1195\u001b[0m \u001b[39m# Do not call functions when jit is used\u001b[39;00m\n\u001b[1;32m   1196\u001b[0m full_backward_hooks, non_full_backward_hooks \u001b[39m=\u001b[39m [], []\n",
      "File \u001b[0;32m~/miniconda3/envs/cellmap_experiments/lib/python3.10/site-packages/torch/nn/modules/container.py:204\u001b[0m, in \u001b[0;36mSequential.forward\u001b[0;34m(self, input)\u001b[0m\n\u001b[1;32m    202\u001b[0m \u001b[39mdef\u001b[39;00m \u001b[39mforward\u001b[39m(\u001b[39mself\u001b[39m, \u001b[39minput\u001b[39m):\n\u001b[1;32m    203\u001b[0m     \u001b[39mfor\u001b[39;00m module \u001b[39min\u001b[39;00m \u001b[39mself\u001b[39m:\n\u001b[0;32m--> 204\u001b[0m         \u001b[39minput\u001b[39m \u001b[39m=\u001b[39m module(\u001b[39minput\u001b[39;49m)\n\u001b[1;32m    205\u001b[0m     \u001b[39mreturn\u001b[39;00m \u001b[39minput\u001b[39m\n",
      "File \u001b[0;32m~/miniconda3/envs/cellmap_experiments/lib/python3.10/site-packages/torch/nn/modules/module.py:1194\u001b[0m, in \u001b[0;36mModule._call_impl\u001b[0;34m(self, *input, **kwargs)\u001b[0m\n\u001b[1;32m   1190\u001b[0m \u001b[39m# If we don't have any hooks, we want to skip the rest of the logic in\u001b[39;00m\n\u001b[1;32m   1191\u001b[0m \u001b[39m# this function, and just call forward.\u001b[39;00m\n\u001b[1;32m   1192\u001b[0m \u001b[39mif\u001b[39;00m \u001b[39mnot\u001b[39;00m (\u001b[39mself\u001b[39m\u001b[39m.\u001b[39m_backward_hooks \u001b[39mor\u001b[39;00m \u001b[39mself\u001b[39m\u001b[39m.\u001b[39m_forward_hooks \u001b[39mor\u001b[39;00m \u001b[39mself\u001b[39m\u001b[39m.\u001b[39m_forward_pre_hooks \u001b[39mor\u001b[39;00m _global_backward_hooks\n\u001b[1;32m   1193\u001b[0m         \u001b[39mor\u001b[39;00m _global_forward_hooks \u001b[39mor\u001b[39;00m _global_forward_pre_hooks):\n\u001b[0;32m-> 1194\u001b[0m     \u001b[39mreturn\u001b[39;00m forward_call(\u001b[39m*\u001b[39;49m\u001b[39minput\u001b[39;49m, \u001b[39m*\u001b[39;49m\u001b[39m*\u001b[39;49mkwargs)\n\u001b[1;32m   1195\u001b[0m \u001b[39m# Do not call functions when jit is used\u001b[39;00m\n\u001b[1;32m   1196\u001b[0m full_backward_hooks, non_full_backward_hooks \u001b[39m=\u001b[39m [], []\n",
      "File \u001b[0;32m~/Programming/dacapo/dacapo/experiments/architectures/cnnectome_unet.py:109\u001b[0m, in \u001b[0;36mCNNectomeUNet.forward\u001b[0;34m(self, x)\u001b[0m\n\u001b[1;32m    108\u001b[0m \u001b[39mdef\u001b[39;00m \u001b[39mforward\u001b[39m(\u001b[39mself\u001b[39m, x):\n\u001b[0;32m--> 109\u001b[0m     \u001b[39mreturn\u001b[39;00m \u001b[39mself\u001b[39;49m\u001b[39m.\u001b[39;49munet(x)\n",
      "File \u001b[0;32m~/miniconda3/envs/cellmap_experiments/lib/python3.10/site-packages/torch/nn/modules/module.py:1194\u001b[0m, in \u001b[0;36mModule._call_impl\u001b[0;34m(self, *input, **kwargs)\u001b[0m\n\u001b[1;32m   1190\u001b[0m \u001b[39m# If we don't have any hooks, we want to skip the rest of the logic in\u001b[39;00m\n\u001b[1;32m   1191\u001b[0m \u001b[39m# this function, and just call forward.\u001b[39;00m\n\u001b[1;32m   1192\u001b[0m \u001b[39mif\u001b[39;00m \u001b[39mnot\u001b[39;00m (\u001b[39mself\u001b[39m\u001b[39m.\u001b[39m_backward_hooks \u001b[39mor\u001b[39;00m \u001b[39mself\u001b[39m\u001b[39m.\u001b[39m_forward_hooks \u001b[39mor\u001b[39;00m \u001b[39mself\u001b[39m\u001b[39m.\u001b[39m_forward_pre_hooks \u001b[39mor\u001b[39;00m _global_backward_hooks\n\u001b[1;32m   1193\u001b[0m         \u001b[39mor\u001b[39;00m _global_forward_hooks \u001b[39mor\u001b[39;00m _global_forward_pre_hooks):\n\u001b[0;32m-> 1194\u001b[0m     \u001b[39mreturn\u001b[39;00m forward_call(\u001b[39m*\u001b[39;49m\u001b[39minput\u001b[39;49m, \u001b[39m*\u001b[39;49m\u001b[39m*\u001b[39;49mkwargs)\n\u001b[1;32m   1195\u001b[0m \u001b[39m# Do not call functions when jit is used\u001b[39;00m\n\u001b[1;32m   1196\u001b[0m full_backward_hooks, non_full_backward_hooks \u001b[39m=\u001b[39m [], []\n",
      "File \u001b[0;32m~/Programming/dacapo/dacapo/experiments/architectures/cnnectome_unet.py:373\u001b[0m, in \u001b[0;36mCNNectomeUNetModule.forward\u001b[0;34m(self, x)\u001b[0m\n\u001b[1;32m    372\u001b[0m \u001b[39mdef\u001b[39;00m \u001b[39mforward\u001b[39m(\u001b[39mself\u001b[39m, x):\n\u001b[0;32m--> 373\u001b[0m     y \u001b[39m=\u001b[39m \u001b[39mself\u001b[39;49m\u001b[39m.\u001b[39;49mrec_forward(\u001b[39mself\u001b[39;49m\u001b[39m.\u001b[39;49mnum_levels \u001b[39m-\u001b[39;49m \u001b[39m1\u001b[39;49m, x)\n\u001b[1;32m    375\u001b[0m     \u001b[39mif\u001b[39;00m \u001b[39mself\u001b[39m\u001b[39m.\u001b[39mnum_heads \u001b[39m==\u001b[39m \u001b[39m1\u001b[39m:\n\u001b[1;32m    376\u001b[0m         \u001b[39mreturn\u001b[39;00m y[\u001b[39m0\u001b[39m]\n",
      "File \u001b[0;32m~/Programming/dacapo/dacapo/experiments/architectures/cnnectome_unet.py:360\u001b[0m, in \u001b[0;36mCNNectomeUNetModule.rec_forward\u001b[0;34m(self, level, f_in)\u001b[0m\n\u001b[1;32m    357\u001b[0m g_in \u001b[39m=\u001b[39m \u001b[39mself\u001b[39m\u001b[39m.\u001b[39ml_down[i](f_left)\n\u001b[1;32m    359\u001b[0m \u001b[39m# nested levels\u001b[39;00m\n\u001b[0;32m--> 360\u001b[0m gs_out \u001b[39m=\u001b[39m \u001b[39mself\u001b[39;49m\u001b[39m.\u001b[39;49mrec_forward(level \u001b[39m-\u001b[39;49m \u001b[39m1\u001b[39;49m, g_in)\n\u001b[1;32m    362\u001b[0m \u001b[39m# up, concat, and crop\u001b[39;00m\n\u001b[1;32m    363\u001b[0m fs_right \u001b[39m=\u001b[39m [\n\u001b[1;32m    364\u001b[0m     \u001b[39mself\u001b[39m\u001b[39m.\u001b[39mr_up[h][i](gs_out[h], f_left) \u001b[39mfor\u001b[39;00m h \u001b[39min\u001b[39;00m \u001b[39mrange\u001b[39m(\u001b[39mself\u001b[39m\u001b[39m.\u001b[39mnum_heads)\n\u001b[1;32m    365\u001b[0m ]\n",
      "File \u001b[0;32m~/Programming/dacapo/dacapo/experiments/architectures/cnnectome_unet.py:357\u001b[0m, in \u001b[0;36mCNNectomeUNetModule.rec_forward\u001b[0;34m(self, level, f_in)\u001b[0m\n\u001b[1;32m    353\u001b[0m     fs_out \u001b[39m=\u001b[39m [f_left] \u001b[39m*\u001b[39m \u001b[39mself\u001b[39m\u001b[39m.\u001b[39mnum_heads\n\u001b[1;32m    355\u001b[0m \u001b[39melse\u001b[39;00m:\n\u001b[1;32m    356\u001b[0m     \u001b[39m# down\u001b[39;00m\n\u001b[0;32m--> 357\u001b[0m     g_in \u001b[39m=\u001b[39m \u001b[39mself\u001b[39;49m\u001b[39m.\u001b[39;49ml_down[i](f_left)\n\u001b[1;32m    359\u001b[0m     \u001b[39m# nested levels\u001b[39;00m\n\u001b[1;32m    360\u001b[0m     gs_out \u001b[39m=\u001b[39m \u001b[39mself\u001b[39m\u001b[39m.\u001b[39mrec_forward(level \u001b[39m-\u001b[39m \u001b[39m1\u001b[39m, g_in)\n",
      "File \u001b[0;32m~/miniconda3/envs/cellmap_experiments/lib/python3.10/site-packages/torch/nn/modules/module.py:1194\u001b[0m, in \u001b[0;36mModule._call_impl\u001b[0;34m(self, *input, **kwargs)\u001b[0m\n\u001b[1;32m   1190\u001b[0m \u001b[39m# If we don't have any hooks, we want to skip the rest of the logic in\u001b[39;00m\n\u001b[1;32m   1191\u001b[0m \u001b[39m# this function, and just call forward.\u001b[39;00m\n\u001b[1;32m   1192\u001b[0m \u001b[39mif\u001b[39;00m \u001b[39mnot\u001b[39;00m (\u001b[39mself\u001b[39m\u001b[39m.\u001b[39m_backward_hooks \u001b[39mor\u001b[39;00m \u001b[39mself\u001b[39m\u001b[39m.\u001b[39m_forward_hooks \u001b[39mor\u001b[39;00m \u001b[39mself\u001b[39m\u001b[39m.\u001b[39m_forward_pre_hooks \u001b[39mor\u001b[39;00m _global_backward_hooks\n\u001b[1;32m   1193\u001b[0m         \u001b[39mor\u001b[39;00m _global_forward_hooks \u001b[39mor\u001b[39;00m _global_forward_pre_hooks):\n\u001b[0;32m-> 1194\u001b[0m     \u001b[39mreturn\u001b[39;00m forward_call(\u001b[39m*\u001b[39;49m\u001b[39minput\u001b[39;49m, \u001b[39m*\u001b[39;49m\u001b[39m*\u001b[39;49mkwargs)\n\u001b[1;32m   1195\u001b[0m \u001b[39m# Do not call functions when jit is used\u001b[39;00m\n\u001b[1;32m   1196\u001b[0m full_backward_hooks, non_full_backward_hooks \u001b[39m=\u001b[39m [], []\n",
      "File \u001b[0;32m~/Programming/dacapo/dacapo/experiments/architectures/cnnectome_unet.py:439\u001b[0m, in \u001b[0;36mDownsample.forward\u001b[0;34m(self, x)\u001b[0m\n\u001b[1;32m    437\u001b[0m \u001b[39mfor\u001b[39;00m d \u001b[39min\u001b[39;00m \u001b[39mrange\u001b[39m(\u001b[39m1\u001b[39m, \u001b[39mself\u001b[39m\u001b[39m.\u001b[39mdims \u001b[39m+\u001b[39m \u001b[39m1\u001b[39m):\n\u001b[1;32m    438\u001b[0m     \u001b[39mif\u001b[39;00m x\u001b[39m.\u001b[39msize()[\u001b[39m-\u001b[39md] \u001b[39m%\u001b[39m \u001b[39mself\u001b[39m\u001b[39m.\u001b[39mdownsample_factor[\u001b[39m-\u001b[39md] \u001b[39m!=\u001b[39m \u001b[39m0\u001b[39m:\n\u001b[0;32m--> 439\u001b[0m         \u001b[39mraise\u001b[39;00m \u001b[39mRuntimeError\u001b[39;00m(\n\u001b[1;32m    440\u001b[0m             \u001b[39m\"\u001b[39m\u001b[39mCan not downsample shape \u001b[39m\u001b[39m%s\u001b[39;00m\u001b[39m with factor \u001b[39m\u001b[39m%s\u001b[39;00m\u001b[39m, mismatch \u001b[39m\u001b[39m\"\u001b[39m\n\u001b[1;32m    441\u001b[0m             \u001b[39m\"\u001b[39m\u001b[39min spatial dimension \u001b[39m\u001b[39m%d\u001b[39;00m\u001b[39m\"\u001b[39m\n\u001b[1;32m    442\u001b[0m             \u001b[39m%\u001b[39m (x\u001b[39m.\u001b[39msize(), \u001b[39mself\u001b[39m\u001b[39m.\u001b[39mdownsample_factor, \u001b[39mself\u001b[39m\u001b[39m.\u001b[39mdims \u001b[39m-\u001b[39m d)\n\u001b[1;32m    443\u001b[0m         )\n\u001b[1;32m    445\u001b[0m \u001b[39mreturn\u001b[39;00m \u001b[39mself\u001b[39m\u001b[39m.\u001b[39mdown(x)\n",
      "\u001b[0;31mRuntimeError\u001b[0m: Can not downsample shape torch.Size([1, 72, 184, 184, 234]) with factor (3, 3, 3), mismatch in spatial dimension 1"
     ]
    }
   ],
   "source": [
    "model = run.model.to(torch.device(\"cpu\"))\n",
    "predictions = model.forward(torch.from_numpy(raw_input).float().to( torch.device(\"cpu\"))).detach().cpu().numpy()[0],\n",
    "                   "
   ]
  },
  {
   "cell_type": "code",
   "execution_count": 21,
   "metadata": {},
   "outputs": [
    {
     "data": {
      "text/plain": [
       "True"
      ]
     },
     "execution_count": 21,
     "metadata": {},
     "output_type": "execute_result"
    }
   ],
   "source": [
    "np.array_equal(raw_input,val_input)"
   ]
  },
  {
   "cell_type": "code",
   "execution_count": 12,
   "metadata": {},
   "outputs": [],
   "source": [
    "output_size = run.model.compute_output_shape(run.model.eval_input_shape)[1]*daisy.Coordinate((8,8,8))\n",
    "gt_padding = (output_size - daisy.Coordinate((1600,1600,2400))) % output_size\n",
    "\n"
   ]
  },
  {
   "cell_type": "code",
   "execution_count": 17,
   "metadata": {},
   "outputs": [
    {
     "data": {
      "text/plain": [
       "(16, 16, 24)"
      ]
     },
     "execution_count": 17,
     "metadata": {},
     "output_type": "execute_result"
    }
   ],
   "source": [
    "gt_padding/8"
   ]
  },
  {
   "cell_type": "code",
   "execution_count": 193,
   "metadata": {},
   "outputs": [
    {
     "name": "stdout",
     "output_type": "stream",
     "text": [
      "(LocalArrayIdentifier(container=PosixPath('/nrs/cellmap/ackermand/cellmap_experiments/test/finetuned_3d_lsdaffs_plasmodesmata_upsample-unet_default_v2__0/validation.zarr'), dataset='inputs/val/raw'), LocalArrayIdentifier(container=PosixPath('/nrs/cellmap/ackermand/cellmap_experiments/test/finetuned_3d_lsdaffs_plasmodesmata_upsample-unet_default_v2__0/validation.zarr'), dataset='inputs/val/gt'))\n"
     ]
    }
   ],
   "source": [
    "from dacapo.store.create_store import create_array_store\n",
    "array_store = create_array_store()\n",
    "print(array_store.validation_input_arrays(run.name, validation_dataset.name))"
   ]
  },
  {
   "cell_type": "code",
   "execution_count": 185,
   "metadata": {},
   "outputs": [
    {
     "ename": "NameError",
     "evalue": "name 'Coordinate' is not defined",
     "output_type": "error",
     "traceback": [
      "\u001b[0;31m---------------------------------------------------------------------------\u001b[0m",
      "\u001b[0;31mNameError\u001b[0m                                 Traceback (most recent call last)",
      "Cell \u001b[0;32mIn[185], line 14\u001b[0m\n\u001b[1;32m      8\u001b[0m out_dataset \u001b[39m=\u001b[39m \u001b[39m\"\u001b[39m\u001b[39mtemp\u001b[39m\u001b[39m\"\u001b[39m\n\u001b[1;32m      9\u001b[0m channel \u001b[39m=\u001b[39m \u001b[39m0\u001b[39m\n\u001b[1;32m     10\u001b[0m prepare_ds(\n\u001b[1;32m     11\u001b[0m     out_container,\n\u001b[1;32m     12\u001b[0m     \u001b[39mf\u001b[39m\u001b[39m\"\u001b[39m\u001b[39m{\u001b[39;00mout_dataset\u001b[39m}\u001b[39;00m\u001b[39m/\u001b[39m\u001b[39m{\u001b[39;00mchannel\u001b[39m}\u001b[39;00m\u001b[39m__\u001b[39m\u001b[39m{\u001b[39;00maff_or_lsd\u001b[39m}\u001b[39;00m\u001b[39m\"\u001b[39m,\n\u001b[1;32m     13\u001b[0m     total_roi\u001b[39m=\u001b[39mRoi([\u001b[39m0\u001b[39m,\u001b[39m0\u001b[39m,\u001b[39m0\u001b[39m],[\u001b[39m128\u001b[39m,\u001b[39m128\u001b[39m,\u001b[39m128\u001b[39m]),\n\u001b[0;32m---> 14\u001b[0m     voxel_size\u001b[39m=\u001b[39mCoordinate([\u001b[39m8\u001b[39m,\u001b[39m8\u001b[39m,\u001b[39m8\u001b[39m]),\n\u001b[1;32m     15\u001b[0m     write_size\u001b[39m=\u001b[39mCoordinate([\u001b[39m64\u001b[39m,\u001b[39m64\u001b[39m,\u001b[39m64\u001b[39m]),\n\u001b[1;32m     16\u001b[0m     dtype\u001b[39m=\u001b[39mnp\u001b[39m.\u001b[39mfloat32,\n\u001b[1;32m     17\u001b[0m     num_channels\u001b[39m=\u001b[39mn_channels,\n\u001b[1;32m     18\u001b[0m )\n\u001b[1;32m     19\u001b[0m root \u001b[39m=\u001b[39m zarr\u001b[39m.\u001b[39mopen(out_container, mode\u001b[39m=\u001b[39m\u001b[39m\"\u001b[39m\u001b[39ma\u001b[39m\u001b[39m\"\u001b[39m)\n\u001b[1;32m     20\u001b[0m ds \u001b[39m=\u001b[39m root[\u001b[39mf\u001b[39m\u001b[39m\"\u001b[39m\u001b[39m{\u001b[39;00mout_dataset\u001b[39m}\u001b[39;00m\u001b[39m/\u001b[39m\u001b[39m{\u001b[39;00mchannel\u001b[39m}\u001b[39;00m\u001b[39m__\u001b[39m\u001b[39m{\u001b[39;00maff_or_lsd\u001b[39m}\u001b[39;00m\u001b[39m\"\u001b[39m]\n",
      "\u001b[0;31mNameError\u001b[0m: name 'Coordinate' is not defined"
     ]
    }
   ],
   "source": [
    "from funlib.geometry import Roi\n",
    "import zarr\n",
    "neighborhood = run_config.task_config.neighborhood\n",
    "num_channels = run.model.num_out_channels\n",
    "\n",
    "for aff_or_lsd, n_channels in zip([\"affs\", \"lsds\"], [len(neighborhood), num_channels-len(neighborhood)]):\n",
    "    out_container = \"temp.n5\"\n",
    "    out_dataset = \"temp\"\n",
    "    channel = 0\n",
    "    prepare_ds(\n",
    "        out_container,\n",
    "        f\"{out_dataset}/{channel}__{aff_or_lsd}\",\n",
    "        total_roi=Roi([0,0,0],[128,128,128]),\n",
    "        voxel_size=Coordinate([8,8,8]),\n",
    "        write_size=Coordinate([64,64,64]),\n",
    "        dtype=np.float32,\n",
    "        num_channels=n_channels,\n",
    "    )\n",
    "    root = zarr.open(out_container, mode=\"a\")\n",
    "    ds = root[f\"{out_dataset}/{channel}__{aff_or_lsd}\"]\n",
    "    if out_container.endswith(\".zarr\"):\n",
    "        ds.attrs[\"offsets\"] = [n[::-1] for n in neighborhood]\n",
    "    else:\n",
    "        ds.attrs[\"offsets\"] = neighborhood"
   ]
  },
  {
   "cell_type": "code",
   "execution_count": 8,
   "metadata": {},
   "outputs": [
    {
     "name": "stdout",
     "output_type": "stream",
     "text": [
      "<class 'list'> <class 'funlib.geometry.coordinate.Coordinate'>\n"
     ]
    }
   ],
   "source": [
    "neighborhood = run_config.task_config.neighborhood\n",
    "print(type(neighborhood),type(neighborhood[0]))"
   ]
  },
  {
   "cell_type": "code",
   "execution_count": 33,
   "metadata": {},
   "outputs": [
    {
     "name": "stdout",
     "output_type": "stream",
     "text": [
      "(9, 200, 200, 300)\n",
      "(9, 200, 200, 300)\n",
      "(200, 200, 300)\n"
     ]
    }
   ],
   "source": [
    "import zarr\n",
    "import matplotlib.pyplot as plt\n",
    "import numpy as np\n",
    "out_container = \"/nrs/cellmap/ackermand/predictions/jrc_22ak351-leaf-3m/jrc_22ak351-leaf-3m.n5\"\n",
    "root = zarr.open(out_container, mode=\"r\")\n",
    "ds = root[f\"predictions/2023-05-24/nuclearpores_affs_lsds/0__affs\"]\n",
    "print(ds.shape)\n",
    "\n",
    "from funlib.persistence import open_ds\n",
    "print(open_ds(out_container,\"predictions/2023-05-24/nuclearpores_affs_lsds/0__affs\").shape)\n",
    "\n",
    "#plt.imshow(np.mean(ds[:,:,:,0],axis=0),vmax=0.5)\n",
    "out_container = \"/nrs/cellmap/ackermand/cellmap_experiments/test/finetuned_3d_lsdaffs_nuclearpores_pseudorandom_training_centers_maxshift_10_upsample-unet_default_v2__0/validation.zarr\"\n",
    "# root = zarr.open(out_container, mode=\"r\")\n",
    "#print(root[f\"val/voi\"].shape)\n",
    "print(open_ds(out_container, \"val/voi\").shape)"
   ]
  },
  {
   "cell_type": "code",
   "execution_count": 3,
   "metadata": {},
   "outputs": [
    {
     "name": "stderr",
     "output_type": "stream",
     "text": [
      "/tmp/ipykernel_22947/1346163204.py:42: DeprecationWarning: Please use `mean` from the `scipy.ndimage` namespace, the `scipy.ndimage.measurements` namespace is deprecated.\n",
      "  fragment_ids, measurements.mean(average_affs, fragments_data, fragment_ids)\n"
     ]
    },
    {
     "data": {
      "text/plain": [
       "<matplotlib.image.AxesImage at 0x7fb41feddc30>"
      ]
     },
     "execution_count": 3,
     "metadata": {},
     "output_type": "execute_result"
    },
    {
     "data": {
      "image/png": "[encoded data removed]",
      "text/plain": [
       "<Figure size 640x480 with 1 Axes>"
      ]
     },
     "metadata": {},
     "output_type": "display_data"
    }
   ],
   "source": [
    "from funlib.geometry import Roi\n",
    "import zarr\n",
    "import mwatershed as mws\n",
    "from funlib.segment.arrays import relabel, replace_values\n",
    "from funlib.persistence import open_ds\n",
    "import numpy as np\n",
    "import matplotlib.pyplot as plt\n",
    "from scipy.ndimage import measurements\n",
    "\n",
    "# densely annotated validation region:\n",
    "offset = np.array([27400, 2000, 5300])\n",
    "dimensions = np.array([300, 200, 200])\n",
    "zarr_file = zarr.open(f\"/nrs/stern/em_data/jrc_22ak351-leaf-3m/jrc_22ak351-leaf-3m.n5\", mode=\"r\")\n",
    "dataset = \"em/fibsem-uint8/s0\"\n",
    "resolution = np.array(zarr_file[dataset].attrs.asdict()[\"transform\"][\"scale\"])\n",
    "validation_roi = Roi(offset[::-1]*resolution, dimensions[::-1]*resolution)\n",
    "\n",
    "affs = open_ds(\"/nrs/cellmap/ackermand/predictions/jrc_22ak351-leaf-3m/jrc_22ak351-leaf-3m.n5\",\"/predictions/2023-05-24/nuclearpores_affs_lsds/0__affs\")\n",
    "offsets = affs.data.attrs[\"affs_offsets\"]\n",
    "affs = open_ds(\"/groups/cellmap/cellmap/ackermand/Programming/nuclearpores_dacapo/temp.n5\",\"pred\")\n",
    "#offsets = [offset[::-1] for offset in offsets]\n",
    "#offsets=[offsets[i] for i in range(8,-1,-1)]\n",
    "offsets = offsets[:]\n",
    "affs = affs.intersect(validation_roi)\n",
    "affs.materialize()\n",
    "affs.data=affs.data[:9].astype(np.float64)\n",
    "\n",
    "filter_fragments = 0.5\n",
    "fragments_data = mws.agglom(\n",
    "        affs.data - filter_fragments,# + shift + random_noise + smoothed_affs,\n",
    "        offsets=offsets,\n",
    "    )\n",
    "prev_high_mean = 0\n",
    "if filter_fragments > 0:\n",
    "        average_affs = np.mean(affs.data, axis=0)\n",
    "\n",
    "        filtered_fragments = []\n",
    "\n",
    "        fragment_ids = np.unique(fragments_data)\n",
    "\n",
    "        for fragment, mean in zip(\n",
    "            fragment_ids, measurements.mean(average_affs, fragments_data, fragment_ids)\n",
    "        ):\n",
    "            if mean < filter_fragments:\n",
    "                filtered_fragments.append(fragment)\n",
    "            if mean>filter_fragments:\n",
    "                #print(fragment,np.sum(fragments_data == fragment))\n",
    "                prev_high_mean=mean\n",
    "\n",
    "        filtered_fragments = np.array(filtered_fragments, dtype=fragments_data.dtype)\n",
    "        replace = np.zeros_like(filtered_fragments)\n",
    "        replace_values(fragments_data, filtered_fragments, replace, inplace=True)\n",
    "plt.imshow(fragments_data[:,:,150],interpolation=\"none\")\n"
   ]
  },
  {
   "cell_type": "code",
   "execution_count": 159,
   "metadata": {},
   "outputs": [
    {
     "data": {
      "text/plain": [
       "array([0], dtype=uint64)"
      ]
     },
     "execution_count": 159,
     "metadata": {},
     "output_type": "execute_result"
    }
   ],
   "source": [
    "np.unique(fragments_data)"
   ]
  },
  {
   "cell_type": "code",
   "execution_count": 110,
   "metadata": {},
   "outputs": [
    {
     "data": {
      "text/plain": [
       "<matplotlib.image.AxesImage at 0x7feefebbd7e0>"
      ]
     },
     "execution_count": 110,
     "metadata": {},
     "output_type": "execute_result"
    },
    {
     "data": {
      "image/png": "[encoded data removed]",
      "text/plain": [
       "<Figure size 640x480 with 1 Axes>"
      ]
     },
     "metadata": {},
     "output_type": "display_data"
    }
   ],
   "source": [
    "plt.imshow(fragments_data[:,:,120])"
   ]
  },
  {
   "cell_type": "code",
   "execution_count": 79,
   "metadata": {},
   "outputs": [
    {
     "ename": "IndexError",
     "evalue": "index 6 is out of bounds for axis 0 with size 6",
     "output_type": "error",
     "traceback": [
      "\u001b[0;31m---------------------------------------------------------------------------\u001b[0m",
      "\u001b[0;31mIndexError\u001b[0m                                Traceback (most recent call last)",
      "Cell \u001b[0;32mIn[79], line 1\u001b[0m\n\u001b[0;32m----> 1\u001b[0m plt\u001b[39m.\u001b[39mimshow(affs\u001b[39m.\u001b[39;49mdata[\u001b[39m6\u001b[39;49m,:,:,\u001b[39m64\u001b[39;49m])\n",
      "\u001b[0;31mIndexError\u001b[0m: index 6 is out of bounds for axis 0 with size 6"
     ]
    }
   ],
   "source": [
    "plt.imshow(affs.data[6,:,:,64])"
   ]
  },
  {
   "cell_type": "code",
   "execution_count": 6,
   "metadata": {},
   "outputs": [
    {
     "data": {
      "text/plain": [
       "(LocalArrayIdentifier(container=PosixPath('/nrs/cellmap/ackermand/cellmap_experiments/test/finetuned_3d_lsdaffs_plasmodesmata_upsample-unet_default_v2__0/validation.zarr'), dataset='inputs/val/raw'),\n",
       " LocalArrayIdentifier(container=PosixPath('/nrs/cellmap/ackermand/cellmap_experiments/test/finetuned_3d_lsdaffs_plasmodesmata_upsample-unet_default_v2__0/validation.zarr'), dataset='inputs/val/gt'))"
      ]
     },
     "execution_count": 6,
     "metadata": {},
     "output_type": "execute_result"
    }
   ],
   "source": [
    "from dacapo.store import create_array_store\n",
    "array_store = create_array_store()\n",
    "array_store.validation_input_arrays(run.name, validation_dataset.name)"
   ]
  },
  {
   "cell_type": "code",
   "execution_count": null,
   "metadata": {},
   "outputs": [],
   "source": []
  }
 ],
 "metadata": {
  "kernelspec": {
   "display_name": "plasmodesmata_dacapo",
   "language": "python",
   "name": "python3"
  },
  "language_info": {
   "codemirror_mode": {
    "name": "ipython",
    "version": 3
   },
   "file_extension": ".py",
   "mimetype": "text/x-python",
   "name": "python",
   "nbconvert_exporter": "python",
   "pygments_lexer": "ipython3",
   "version": "3.10.11"
  },
  "orig_nbformat": 4
 },
 "nbformat": 4,
 "nbformat_minor": 2
}
